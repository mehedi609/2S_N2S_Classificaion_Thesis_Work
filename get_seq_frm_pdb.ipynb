{
 "cells": [
  {
   "cell_type": "code",
   "outputs": [],
   "source": [
    "import pandas as pd\n",
    "import re"
   ],
   "metadata": {
    "collapsed": false,
    "ExecuteTime": {
     "end_time": "2024-03-17T07:53:26.753468Z",
     "start_time": "2024-03-17T07:53:26.215371Z"
    }
   },
   "id": "998f2f6e80e64e2e",
   "execution_count": 23
  },
  {
   "cell_type": "markdown",
   "source": [
    "### TODO List\n",
    "- Load dataset\n",
    "- make a function \"parse_pdb_column\" which will do the following things\n",
    "    - it will create a new dataset with 4 extra column pdb_id, chain, start_residue & end_residue\n",
    "    - save the data in a new .csv file\n",
    "\n",
    "1. There are 3 types of data in the PDB column, based on this I will create new 4 columns\n",
    "2. The conditions are like\n",
    "    1. If the data is like this format, \"1L8W (Chain B: 29–335)\", then pdb_id will contain value \"1ARR\", chain will be \"B\", start_residue will be 29 & end_residue 335.\n",
    "    2. If the data is like this format, \"1CUN (113–219)\", then pdb_id will contain value \"1CUN\", chain will be \"A\" as there is no chain string in the data set default value \"A\", start_residue will be 113 & end_residue 219.\n",
    "    3. If the data is like this format, \"1RYK\", then pdb_id will contain value \"1RYK\", chain will be \"A\" as there is no \"chain\" string in the data set default value \"A\", start_residue & end_residue will be empty as there is nothing in the data."
   ],
   "metadata": {
    "collapsed": false
   },
   "id": "22365e89fa2a68bb"
  },
  {
   "cell_type": "code",
   "outputs": [],
   "source": [
    "# Load the dataset\n",
    "df = pd.read_excel('./data/Final_2Sm_modified_work_base.xlsx')\n",
    "\n",
    "# Function to parse the PDB column\n",
    "def parse_pdb_column(pdb_str):\n",
    "    # Match patterns like \"1L8W (Chain B: 29–335)\"\n",
    "    match = re.match(r\"(\\w+)\\s*\\(Chain\\s+(\\w):\\s*(\\d+)–(\\d+)\\)\", pdb_str)\n",
    "    if match:\n",
    "        return match.group(1), match.group(2), match.group(3), match.group(4)\n",
    "\n",
    "    # Match patterns like \"1CUN (113–219)\"\n",
    "    match = re.match(r\"(\\w+)\\s*\\((\\d+)–(\\d+)\\)\", pdb_str)\n",
    "    if match:\n",
    "        return match.group(1), 'A', match.group(2), match.group(3)  # Default chain to 'A'\n",
    "\n",
    "    # Match patterns like \"1RYK\"\n",
    "    match = re.match(r\"(\\w+)\", pdb_str)\n",
    "    if match:\n",
    "        return match.group(1), 'A', '', ''  # Default chain to 'A', start_residue and end_residue to empty\n",
    "\n",
    "    # If none of the patterns match, return empty values\n",
    "    return pdb_str, 'A', '', ''  # Return the original pdb_str if no pattern matches\n",
    "\n",
    "# Apply the function to parse the 'PDB' column\n",
    "df[['pdb_id', 'chain', 'start_residue', 'end_residue']] = df.apply(\n",
    "    lambda row: pd.Series(parse_pdb_column(row['PDB'])), axis=1\n",
    ")\n",
    "\n",
    "# Convert 'start_residue' and 'end_residue' to numeric types (integers if possible)\n",
    "df['start_residue'] = pd.to_numeric(df['start_residue'], errors='coerce').fillna(0).astype(int)\n",
    "df['end_residue'] = pd.to_numeric(df['end_residue'], errors='coerce').fillna(0).astype(int)\n",
    "\n",
    "# Replace 0 back to NaN (or empty string) for start_residue and end_residue where appropriate\n",
    "df['start_residue'].replace(0, '', inplace=True)\n",
    "df['end_residue'].replace(0, '', inplace=True)\n",
    "\n",
    "# When saving to Excel, explicitly setting the dtype for 'pdb_id' and 'chain' as text is not directly supported by to_excel.\n",
    "# However, ensuring 'start_residue' and 'end_residue' are numeric helps maintain clarity of data types.\n",
    "df.to_excel('./data/Final_2Sm_modified_work_generated.xlsx', index=False)"
   ],
   "metadata": {
    "collapsed": false,
    "ExecuteTime": {
     "end_time": "2024-03-18T03:38:34.709407Z",
     "start_time": "2024-03-18T03:38:34.655337Z"
    }
   },
   "id": "10b54bca927e55bb",
   "execution_count": 45
  },
  {
   "cell_type": "code",
   "outputs": [
    {
     "name": "stdout",
     "output_type": "stream",
     "text": [
      "   no             PDB pdb_id chain start_residue end_residue\n",
      "0   1    1ARR (1–106)   1ARR     A             1         106\n",
      "1   2            1BA5   1BA5     A                          \n",
      "2   3    1CUN (7–112)   1CUN     A             7         112\n",
      "3   4  1CUN (113–219)   1CUN     A           113         219\n",
      "4   5   1E41 (93–192)   1E41     A            93         192\n"
     ]
    }
   ],
   "source": [
    "# Show the modified DataFrame\n",
    "print(df.head())"
   ],
   "metadata": {
    "collapsed": false,
    "ExecuteTime": {
     "end_time": "2024-03-18T03:39:25.968169Z",
     "start_time": "2024-03-18T03:39:25.954146Z"
    }
   },
   "id": "28b42fdec6e4515f",
   "execution_count": 46
  },
  {
   "cell_type": "code",
   "execution_count": 2,
   "id": "initial_id",
   "metadata": {
    "collapsed": true,
    "ExecuteTime": {
     "end_time": "2024-03-30T05:08:53.286490Z",
     "start_time": "2024-03-30T05:08:52.997248Z"
    }
   },
   "outputs": [],
   "source": [
    "import os\n",
    "from Bio.PDB import PDBParser, PPBuilder\n",
    "import requests"
   ]
  },
  {
   "cell_type": "code",
   "outputs": [],
   "source": [
    "# function to fetch the protein sequence based on PDB_id, chain_id, start_residue & end_residue\n",
    "\n",
    "def get_pdb_sequence(pdb_id, chain_id=None, start=None, end=None):\n",
    "    # Ensure temp_pdb directory exists\n",
    "    temp_dir = \"./temp_pdb\"\n",
    "    os.makedirs(temp_dir, exist_ok=True)\n",
    "\n",
    "    # Define the path for the temporary PDB file\n",
    "    pdb_filename = os.path.join(temp_dir, f\"{pdb_id}.pdb\")\n",
    "\n",
    "    # Fetch the PDB file from RCSB PDB\n",
    "    url = f\"https://files.rcsb.org/download/{pdb_id}.pdb\"\n",
    "    response = requests.get(url)\n",
    "    if response.status_code != 200:\n",
    "        print(f\"Failed to fetch PDB file for {pdb_id}.\")\n",
    "        return None\n",
    "\n",
    "    # Save the PDB content to the temporary file\n",
    "    with open(pdb_filename, 'w') as file:\n",
    "        file.write(response.text)\n",
    "\n",
    "    # Parse the PDB file\n",
    "    pdb_parser = PDBParser()\n",
    "    structure = pdb_parser.get_structure(pdb_id, pdb_filename)\n",
    "\n",
    "    # Extract sequence for the specified chain using PPBuilder\n",
    "    for model in structure:\n",
    "        for chain in model:\n",
    "            if chain_id is None or chain.id == chain_id:\n",
    "                for pp in PPBuilder().build_peptides(chain):\n",
    "                    sequence = pp.get_sequence()\n",
    "                    # If start and end are specified, slice the sequence\n",
    "                    if start is not None and end is not None:\n",
    "                        sequence = sequence[start-1:end]\n",
    "                    return str(sequence)\n",
    "    return None"
   ],
   "metadata": {
    "collapsed": false,
    "ExecuteTime": {
     "end_time": "2024-03-18T04:51:02.323449Z",
     "start_time": "2024-03-18T04:51:02.316449Z"
    }
   },
   "id": "3fbe751853fb6ef5",
   "execution_count": 50
  },
  {
   "cell_type": "code",
   "outputs": [],
   "source": [
    "# Example usage\n",
    "pdb_id = \"1TP3\"\n",
    "chain_id = \"A\"  # Adjust based on your needs or keep as None to fetch for all chains\n",
    "start_residue = None\n",
    "end_residue = None\n",
    "sequence = get_pdb_sequence(pdb_id, chain_id, start_residue, end_residue)\n",
    "print(f\"Sequence for {pdb_id}, Chain {chain_id}, Residues {start_residue}-{end_residue}:\\n{sequence}\")"
   ],
   "metadata": {
    "collapsed": false
   },
   "id": "cba505b89d5635da",
   "execution_count": null
  },
  {
   "cell_type": "code",
   "outputs": [],
   "source": [
    "def fetch_sequence_from_url(url):\n",
    "    \"\"\"\n",
    "    Fetch a sequence from a given URL.\n",
    "\n",
    "    :param url: The URL to fetch the sequence from.\n",
    "    :return: The fetched sequence as a string, or None if the fetch fails.\n",
    "    \"\"\"\n",
    "    response = requests.get(url)\n",
    "    if response.status_code == 200:\n",
    "        # Extract the sequence from the response content\n",
    "        content = response.text\n",
    "        # Assuming the FASTA format, the first line is the header (which we skip),\n",
    "        # and the rest is the sequence.\n",
    "        sequence_lines = content.split('\\n')[1:]  # Skip the header line\n",
    "        sequence = ''.join(sequence_lines)  # Combine the sequence lines\n",
    "        return sequence\n",
    "    else:\n",
    "        print(f\"Failed to fetch the sequence. HTTP Status Code: {response.status_code}\")\n",
    "        return None\n",
    "\n",
    "# Example usage\n"
   ],
   "metadata": {
    "collapsed": false,
    "ExecuteTime": {
     "end_time": "2024-03-30T05:12:05.924863Z",
     "start_time": "2024-03-30T05:12:05.909864Z"
    }
   },
   "id": "c03aa131704f56ff",
   "execution_count": 6
  },
  {
   "cell_type": "code",
   "outputs": [
    {
     "name": "stdout",
     "output_type": "stream",
     "text": [
      "pdb_id: 2KDI\n",
      "Length: 114\n",
      "Sequence:\n",
      "MHHHHHHGEFQIFAKTLTGKTITLEVESSDTIDNVKSKIQDKEGIPPDQQRLIWAGKQLEDGRTLSDYNIQRESTLHLVLRLRGGSMGGAADEEELIRKAIELSLKESRNSGGY\n"
     ]
    }
   ],
   "source": [
    "pdb_id = \"2KDI\"\n",
    "url = f\"https://www.rcsb.org/fasta/entry/{pdb_id}/display\"\n",
    "sequence = fetch_sequence_from_url(url)\n",
    "print(f\"pdb_id: {pdb_id}\")\n",
    "print(f\"Length: {len(sequence)}\")\n",
    "print(f\"Sequence:\\n{sequence}\")"
   ],
   "metadata": {
    "collapsed": false,
    "ExecuteTime": {
     "end_time": "2024-03-30T05:18:46.283352Z",
     "start_time": "2024-03-30T05:18:45.649371Z"
    }
   },
   "id": "4d520afbde212622",
   "execution_count": 14
  }
 ],
 "metadata": {
  "kernelspec": {
   "display_name": "Python 3",
   "language": "python",
   "name": "python3"
  },
  "language_info": {
   "codemirror_mode": {
    "name": "ipython",
    "version": 2
   },
   "file_extension": ".py",
   "mimetype": "text/x-python",
   "name": "python",
   "nbconvert_exporter": "python",
   "pygments_lexer": "ipython2",
   "version": "2.7.6"
  }
 },
 "nbformat": 4,
 "nbformat_minor": 5
}
