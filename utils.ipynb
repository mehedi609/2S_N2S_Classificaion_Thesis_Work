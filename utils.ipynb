{
 "cells": [
  {
   "cell_type": "code",
   "execution_count": null,
   "id": "initial_id",
   "metadata": {
    "collapsed": true
   },
   "outputs": [],
   "source": []
  },
  {
   "cell_type": "code",
   "outputs": [
    {
     "name": "stdout",
     "output_type": "stream",
     "text": [
      "Windows-1252\n"
     ]
    }
   ],
   "source": [
    "import chardet\n",
    "\n",
    "def detect_file_encoding(file_path):\n",
    "    with open(file_path, 'rb') as file:\n",
    "        return chardet.detect(file.read())['encoding']\n",
    "\n",
    "# Usage\n",
    "file_path = './data/Final_2Sm_modified_1.csv'\n",
    "print(detect_file_encoding(file_path))"
   ],
   "metadata": {
    "collapsed": false,
    "ExecuteTime": {
     "end_time": "2024-03-17T18:06:12.632093Z",
     "start_time": "2024-03-17T18:06:12.603936Z"
    }
   },
   "id": "1e3100e7d2a4d0c6",
   "execution_count": 1
  },
  {
   "cell_type": "markdown",
   "source": [
    "### Convert CSV to Excel"
   ],
   "metadata": {
    "collapsed": false
   },
   "id": "df97205649659b58"
  },
  {
   "cell_type": "code",
   "outputs": [],
   "source": [
    "import pandas as pd\n",
    "import os\n",
    "\n",
    "# Define the directory path where your files are located\n",
    "dir_path = './data'\n",
    "\n",
    "# Define the file names\n",
    "csv_file_name = 'Final_2Sm_modified_final.csv'\n",
    "excel_file_name = 'Final_2Sm_modified_final.xlsx'\n",
    "\n",
    "# Use os.path.join to create the full file paths\n",
    "csv_file_path = os.path.join(dir_path, csv_file_name)\n",
    "excel_file_path = os.path.join(dir_path, excel_file_name)\n",
    "\n",
    "# Load the CSV file into a DataFrame\n",
    "df = pd.read_csv(csv_file_path)\n",
    "\n",
    "# Convert and save the DataFrame to an Excel file\n",
    "df.to_excel(excel_file_path, index=False)"
   ],
   "metadata": {
    "collapsed": false,
    "ExecuteTime": {
     "end_time": "2024-03-18T03:22:08.532819Z",
     "start_time": "2024-03-18T03:22:08.498810Z"
    }
   },
   "id": "d279c7bf5229ffa4",
   "execution_count": 10
  },
  {
   "cell_type": "code",
   "outputs": [],
   "source": [
    "def split_string(name, data, start = 0, end = 0):\n",
    "    print(f\"{name} ==> {data}\")\n",
    "    print(f\"Length: {len(data)}\")\n",
    "    \n",
    "    _data = ''\n",
    "    if start == 0 and end == 0:\n",
    "        _data = data\n",
    "    else:\n",
    "        _data = data[start-1:end]\n",
    "        \n",
    "    print(f\"{name} ==> {_data}\")\n",
    "    print(f\"Length: {len(_data)}\")\n",
    "        \n",
    "    "
   ],
   "metadata": {
    "collapsed": false,
    "ExecuteTime": {
     "end_time": "2024-03-29T05:39:37.164271Z",
     "start_time": "2024-03-29T05:39:37.149773Z"
    }
   },
   "id": "2be8d302adb70b57",
   "execution_count": 98
  },
  {
   "cell_type": "code",
   "outputs": [
    {
     "name": "stdout",
     "output_type": "stream",
     "text": [
      "1PRS ==> RDSGTVWGALGHGINLNIPNFQMTDDIDEVRWERGSTLVAEFKRKMKPFLKSGAFEILANGDLKIKNLTRDDSGTYNVTVYSTNGTRILNKALDLRILEMVSKPMIYWECSNATLTCEVLEGTDVELKLYQGKEHLRSLRQKTMSYQWTNLRAPFKCKAVNRVSQESEMEVVNCPE\n",
      "Length: 176\n",
      "1PRS ==> RDSGTVWGALGHGINLNIPNFQMTDDIDEVRWERGSTLVAEFKRKMKPFLKSGAFEILANGDLKIKNLTRDDSGTYNVTVYSTNGTRILNKALDLRIL\n",
      "Length: 98\n"
     ]
    }
   ],
   "source": [
    "name = '1PRS'\n",
    "str_value = 'RDSGTVWGALGHGINLNIPNFQMTDDIDEVRWERGSTLVAEFKRKMKPFLKSGAFEILANGDLKIKNLTRDDSGTYNVTVYSTNGTRILNKALDLRILEMVSKPMIYWECSNATLTCEVLEGTDVELKLYQGKEHLRSLRQKTMSYQWTNLRAPFKCKAVNRVSQESEMEVVNCPE'\n",
    "start, end = 1, 98\n",
    "split_string(name, str_value, start, end)"
   ],
   "metadata": {
    "collapsed": false,
    "ExecuteTime": {
     "end_time": "2024-03-29T16:23:56.728886Z",
     "start_time": "2024-03-29T16:23:56.721387Z"
    }
   },
   "id": "376eae2e9fd87731",
   "execution_count": 153
  },
  {
   "cell_type": "code",
   "outputs": [
    {
     "data": {
      "text/plain": "False"
     },
     "execution_count": 127,
     "metadata": {},
     "output_type": "execute_result"
    }
   ],
   "source": [],
   "metadata": {
    "collapsed": false,
    "ExecuteTime": {
     "end_time": "2024-03-29T06:42:34.121212Z",
     "start_time": "2024-03-29T06:42:34.098711Z"
    }
   },
   "id": "1eba526753986f3c",
   "execution_count": 127
  }
 ],
 "metadata": {
  "kernelspec": {
   "display_name": "Python 3",
   "language": "python",
   "name": "python3"
  },
  "language_info": {
   "codemirror_mode": {
    "name": "ipython",
    "version": 2
   },
   "file_extension": ".py",
   "mimetype": "text/x-python",
   "name": "python",
   "nbconvert_exporter": "python",
   "pygments_lexer": "ipython2",
   "version": "2.7.6"
  }
 },
 "nbformat": 4,
 "nbformat_minor": 5
}
