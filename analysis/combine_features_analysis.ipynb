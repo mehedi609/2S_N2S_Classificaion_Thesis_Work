{
 "cells": [
  {
   "cell_type": "code",
   "id": "initial_id",
   "metadata": {
    "collapsed": true,
    "ExecuteTime": {
     "end_time": "2024-04-22T12:51:40.621098Z",
     "start_time": "2024-04-22T12:51:40.595598Z"
    }
   },
   "source": [
    "import pandas as pd\n",
    "from sklearn.preprocessing import LabelEncoder\n",
    "from sklearn.svm import SVC\n",
    "from sklearn.preprocessing import StandardScaler\n",
    "import numpy as np"
   ],
   "outputs": [],
   "execution_count": 6
  },
  {
   "metadata": {
    "ExecuteTime": {
     "end_time": "2024-04-17T13:36:31.084387Z",
     "start_time": "2024-04-17T13:36:31.077881Z"
    }
   },
   "cell_type": "code",
   "source": "",
   "id": "a8858ad91ac492e2",
   "outputs": [],
   "execution_count": 1
  },
  {
   "metadata": {
    "ExecuteTime": {
     "end_time": "2024-04-22T12:51:43.251354Z",
     "start_time": "2024-04-22T12:51:42.541088Z"
    }
   },
   "cell_type": "code",
   "source": [
    "from feature_extraction.CTFeatureExtraction import CTFeatureExtraction\n",
    "from feature_extraction.QSOFeatureExtraction import QSOFeatureExtraction\n",
    "from feature_extraction.GTPCFeatureExtraction import GTPCFeatureExtraction\n",
    "from feature_extraction.GDPCFeatureExtraction import GDPCFeatureExtraction\n",
    "from feature_extraction.CTDFeatureExtraction import CTDFeatureExtraction\n",
    "from feature_extraction.CKSAAPFeatureExtraction import CKSAAPFeatureExtraction\n",
    "from feature_extraction.AAIFeatureExtraction import AAIFeatureExtraction\n",
    "from feature_extraction.DDEFeatureExtraction import DDEFeatureExtraction\n",
    "from feature_extraction.DPCFeatureExtraction import DPCFeatureExtraction\n",
    "from feature_extraction.KAACFeatureExtraction import KAACFeatureExtraction\n",
    "\n",
    "# Load the dataset\n",
    "data = pd.read_excel('../data/Final_2Sm_modified_with_sequences.xlsx')\n",
    "\n",
    "# Initialize the LabelEncoder\n",
    "label_encoder = LabelEncoder()\n",
    "\n",
    "# Fit the encoder to the folding_type column and transform it to numeric labels\n",
    "data['folding_type'] = label_encoder.fit_transform(data['folding_type'])\n",
    "\n",
    "# Extract labels for model training\n",
    "labels = data['folding_type'].values\n",
    "\n",
    "# Initialize the feature extraction objects\n",
    "kaac_extractor = KAACFeatureExtraction()\n",
    "dpc_extractor = DPCFeatureExtraction()\n",
    "dde_extractor = DDEFeatureExtraction()\n",
    "aai_extractor = AAIFeatureExtraction()\n",
    "cksaap_extractor = CKSAAPFeatureExtraction()\n",
    "ctd_extractor = CTDFeatureExtraction()\n",
    "gdpc_extractor = GDPCFeatureExtraction()\n",
    "gtpc_extractor = GTPCFeatureExtraction()\n",
    "qso_extractor = QSOFeatureExtraction()\n",
    "ct_extractor = CTFeatureExtraction()\n",
    "\n",
    "# Extract features using feature extracting methods\n",
    "kaac_features = np.array([kaac_extractor.calculate_kaac_features(seq) for seq in data['sequence']])\n",
    "dpc_features = np.array([dpc_extractor.calculate_dpc_features(seq) for seq in data['sequence']])\n",
    "dde_features = np.array([dde_extractor.calculate_dde_features(seq) for seq in data['sequence']])\n",
    "aai_features = np.array([aai_extractor.calculate_aai_features(seq) for seq in data['sequence']])\n",
    "cksaap_features = np.array([cksaap_extractor.calculate_cksaap_features(seq) for seq in data['sequence']])\n",
    "ctd_features = np.array([ctd_extractor.calculate_ctd_features(seq) for seq in data['sequence']])\n",
    "gdpc_features = np.array([gdpc_extractor.calculate_gdpc_features(seq) for seq in data['sequence']])\n",
    "gtpc_features = np.array([gtpc_extractor.calculate_gtpc_features(seq) for seq in data['sequence']])\n",
    "qso_features = np.array([qso_extractor.calculate_qso_features(seq) for seq in data['sequence']])\n",
    "ct_features = np.array([ct_extractor.calculate_ct_features(seq) for seq in data['sequence']])\n",
    "\n",
    "# Combine the extracted features\n",
    "combined_features = np.concatenate((kaac_features, dpc_features, dde_features), axis=1)"
   ],
   "id": "2ce95aa12f0d905",
   "outputs": [],
   "execution_count": 7
  },
  {
   "metadata": {
    "ExecuteTime": {
     "end_time": "2024-04-17T13:36:37.182908Z",
     "start_time": "2024-04-17T13:36:37.175908Z"
    }
   },
   "cell_type": "code",
   "source": "combined_features.shape",
   "id": "a290ba3447814685",
   "outputs": [
    {
     "data": {
      "text/plain": [
       "(141, 821)"
      ]
     },
     "execution_count": 3,
     "metadata": {},
     "output_type": "execute_result"
    }
   ],
   "execution_count": 3
  },
  {
   "metadata": {
    "ExecuteTime": {
     "end_time": "2024-04-17T11:25:02.662709Z",
     "start_time": "2024-04-17T11:25:02.010747Z"
    }
   },
   "cell_type": "code",
   "source": [
    "from sklearn.model_selection import LeaveOneOut\n",
    "\n",
    "# SVM with Leave-One-Out Cross-Validation (LOOCV)\n",
    "loo = LeaveOneOut()\n",
    "y_true, y_pred = [], []\n",
    "for train_index, test_index in loo.split(combined_features):\n",
    "    X_train, X_test = combined_features[train_index], combined_features[test_index]\n",
    "    y_train, y_test = labels[train_index], labels[test_index]\n",
    "\n",
    "    # Scale the features for the current split\n",
    "    scaler = StandardScaler()\n",
    "    X_train_scaled = scaler.fit_transform(X_train)\n",
    "    X_test_scaled = scaler.transform(X_test)\n",
    "\n",
    "    clf = SVC(kernel='linear')\n",
    "    clf.fit(X_train_scaled, y_train)\n",
    "    y_pred.append(clf.predict(X_test_scaled)[0])\n",
    "    y_true.append(y_test[0])"
   ],
   "id": "7527e1c8646ee603",
   "outputs": [],
   "execution_count": 6
  },
  {
   "metadata": {
    "ExecuteTime": {
     "end_time": "2024-04-17T11:25:05.023243Z",
     "start_time": "2024-04-17T11:25:05.009744Z"
    }
   },
   "cell_type": "code",
   "source": [
    "from feature_extraction.ClassificationMatrix import ClassificationMatrix\n",
    "\n",
    "# Calculate and display the confusion matrix\n",
    "cm = ClassificationMatrix(y_true, y_pred, 'KAAC')\n",
    "cm.evaluate()"
   ],
   "id": "7df042bbc30c9ea1",
   "outputs": [
    {
     "name": "stdout",
     "output_type": "stream",
     "text": [
      "Confusion Matrix: $KAAC\n",
      "[[70 19]\n",
      " [25 27]]\n",
      "\n",
      "Accuracy (ACC): 0.69\n",
      "Matthews Correlation Coefficient (MCC): 0.31\n",
      "\n",
      "Classification Report:\n",
      "              precision    recall  f1-score   support\n",
      "\n",
      "           0       0.74      0.79      0.76        89\n",
      "           1       0.59      0.52      0.55        52\n",
      "\n",
      "    accuracy                           0.69       141\n",
      "   macro avg       0.66      0.65      0.66       141\n",
      "weighted avg       0.68      0.69      0.68       141\n",
      "\n"
     ]
    }
   ],
   "execution_count": 7
  },
  {
   "metadata": {},
   "cell_type": "code",
   "outputs": [],
   "execution_count": null,
   "source": "",
   "id": "189d3e0fa5c863d3"
  },
  {
   "metadata": {},
   "cell_type": "markdown",
   "source": "# Kernel SVM with hyperparameter tuning & validate with LOOCV",
   "id": "8400ab3824ce4d4b"
  },
  {
   "metadata": {
    "ExecuteTime": {
     "end_time": "2024-04-22T12:52:29.815172Z",
     "start_time": "2024-04-22T12:52:28.215473Z"
    }
   },
   "cell_type": "code",
   "source": [
    "from sklearn.model_selection import GridSearchCV, LeaveOneOut\n",
    "\n",
    "# Scale the features\n",
    "scaler = StandardScaler()\n",
    "scaled_features = scaler.fit_transform(combined_features)\n",
    "\n",
    "# Define the parameter grid for grid search\n",
    "param_grid = {\n",
    "    'C': [2**i for i in range(-15, 16, 2)],\n",
    "    'gamma': [2**i for i in range(-15, 4, 2)],\n",
    "    'kernel': ['rbf']\n",
    "}\n",
    "\n",
    "# Create an SVM classifier\n",
    "clf = SVC()\n",
    "\n",
    "# Perform grid search with leave-one-out cross-validation\n",
    "grid_search = GridSearchCV(estimator=clf, param_grid=param_grid, cv=loo, n_jobs=-1, verbose=2)\n",
    "grid_search.fit(scaled_features, labels)\n",
    "\n",
    "# Get the best parameters and best score\n",
    "best_params = grid_search.best_params_\n",
    "best_score = grid_search.best_score_\n",
    "\n",
    "print(\"Best parameters: \", best_params)\n",
    "print(\"Best score: \", best_score)\n",
    "\n",
    "# Get the best classifier\n",
    "best_clf = grid_search.best_estimator_\n",
    "\n",
    "# Perform leave-one-out cross-validation with the best classifier\n",
    "loo = LeaveOneOut()\n",
    "y_true, y_pred = [], []\n",
    "for train_index, test_index in loo.split(scaled_features):\n",
    "    X_train, X_test = scaled_features[train_index], scaled_features[test_index]\n",
    "    y_train, y_test = labels[train_index], labels[test_index]\n",
    "    best_clf.fit(X_train, y_train)\n",
    "    y_pred.append(best_clf.predict(X_test)[0])\n",
    "    y_true.append(y_test[0])"
   ],
   "id": "96a0df6be810cc2e",
   "outputs": [
    {
     "name": "stdout",
     "output_type": "stream",
     "text": [
      "Fitting 5 folds for each of 160 candidates, totalling 800 fits\n",
      "Best parameters:  {'C': 2, 'gamma': 0.00048828125, 'kernel': 'rbf'}\n",
      "Best score:  0.6458128078817734\n"
     ]
    }
   ],
   "execution_count": 10
  },
  {
   "metadata": {
    "ExecuteTime": {
     "end_time": "2024-04-22T12:52:00.334340Z",
     "start_time": "2024-04-22T12:52:00.303339Z"
    }
   },
   "cell_type": "code",
   "source": [
    "from feature_extraction.ClassificationMatrix import ClassificationMatrix\n",
    "\n",
    "# Calculate and display the confusion matrix\n",
    "cm = ClassificationMatrix(y_true, y_pred, 'KSVM')\n",
    "cm.evaluate()"
   ],
   "id": "9fdca98b59cdda7f",
   "outputs": [
    {
     "name": "stdout",
     "output_type": "stream",
     "text": [
      "Confusion Matrix: $KSVM\n",
      "[[79 10]\n",
      " [30 22]]\n",
      "\n",
      "Accuracy (ACC): 0.72\n",
      "Matthews Correlation Coefficient (MCC): 0.36\n",
      "\n",
      "Classification Report:\n",
      "              precision    recall  f1-score   support\n",
      "\n",
      "           0       0.72      0.89      0.80        89\n",
      "           1       0.69      0.42      0.52        52\n",
      "\n",
      "    accuracy                           0.72       141\n",
      "   macro avg       0.71      0.66      0.66       141\n",
      "weighted avg       0.71      0.72      0.70       141\n",
      "\n"
     ]
    }
   ],
   "execution_count": 9
  },
  {
   "metadata": {},
   "cell_type": "code",
   "outputs": [],
   "execution_count": null,
   "source": "",
   "id": "228f70fc8ce77e92"
  },
  {
   "metadata": {},
   "cell_type": "markdown",
   "source": "# RandomForest RF with hyperparameter tuning & validate with LOOCV",
   "id": "e8e8a5ca9e3791a5"
  },
  {
   "metadata": {
    "ExecuteTime": {
     "end_time": "2024-04-17T14:08:52.423711Z",
     "start_time": "2024-04-17T13:37:00.076755Z"
    }
   },
   "cell_type": "code",
   "source": [
    "from sklearn.ensemble import RandomForestClassifier\n",
    "from sklearn.model_selection import GridSearchCV, LeaveOneOut\n",
    "\n",
    "# Scale the features\n",
    "scaler = StandardScaler()\n",
    "scaled_features = scaler.fit_transform(combined_features)\n",
    "\n",
    "# Define the parameter grid for grid search\n",
    "param_grid = {\n",
    "    'n_estimators': np.arange(50, 1001, 10),  # mtree: 50 to 1000 with step size of 10\n",
    "    'max_features': np.arange(1, 16, 1),      # ntry: 1 to 15 with step size of 1\n",
    "    'min_samples_split': np.arange(2, 11, 1)  # msplit: 2 to 10 with step size of 1\n",
    "}\n",
    "\n",
    "# Create a Random Forest classifier\n",
    "rf_clf = RandomForestClassifier(random_state=42)\n",
    "\n",
    "# Perform grid search with leave-one-out cross-validation\n",
    "grid_search = GridSearchCV(estimator=rf_clf, param_grid=param_grid, cv=3, n_jobs=-1, verbose=2)\n",
    "grid_search.fit(scaled_features, labels)\n",
    "\n",
    "# Get the best classifier\n",
    "best_rf_clf = grid_search.best_estimator_\n",
    "\n",
    "# Perform leave-one-out cross-validation with the best classifier\n",
    "loo = LeaveOneOut()\n",
    "y_true, y_pred = [], []\n",
    "for train_index, test_index in loo.split(scaled_features):\n",
    "    X_train, X_test = scaled_features[train_index], scaled_features[test_index]\n",
    "    y_train, y_test = labels[train_index], labels[test_index]\n",
    "    best_rf_clf.fit(X_train, y_train)\n",
    "    y_pred.append(best_rf_clf.predict(X_test)[0])\n",
    "    y_true.append(y_test[0])"
   ],
   "id": "bd52ced0e2cb86a7",
   "outputs": [
    {
     "name": "stdout",
     "output_type": "stream",
     "text": [
      "Fitting 3 folds for each of 12960 candidates, totalling 38880 fits\n"
     ]
    }
   ],
   "execution_count": 4
  },
  {
   "metadata": {
    "ExecuteTime": {
     "end_time": "2024-04-17T14:38:19.527056Z",
     "start_time": "2024-04-17T14:38:19.501549Z"
    }
   },
   "cell_type": "code",
   "source": [
    "from feature_extraction.ClassificationMatrix import ClassificationMatrix\n",
    "\n",
    "# Calculate and display the confusion matrix\n",
    "cm = ClassificationMatrix(y_true, y_pred, 'Random Forest')\n",
    "cm.evaluate()"
   ],
   "id": "96a46baf1940ed9a",
   "outputs": [
    {
     "name": "stdout",
     "output_type": "stream",
     "text": [
      "Confusion Matrix: $KAAC\n",
      "[[83  6]\n",
      " [21 31]]\n",
      "\n",
      "Accuracy (ACC): 0.81\n",
      "Matthews Correlation Coefficient (MCC): 0.58\n",
      "\n",
      "Classification Report:\n",
      "              precision    recall  f1-score   support\n",
      "\n",
      "           0       0.80      0.93      0.86        89\n",
      "           1       0.84      0.60      0.70        52\n",
      "\n",
      "    accuracy                           0.81       141\n",
      "   macro avg       0.82      0.76      0.78       141\n",
      "weighted avg       0.81      0.81      0.80       141\n",
      "\n"
     ]
    }
   ],
   "execution_count": 5
  },
  {
   "metadata": {},
   "cell_type": "code",
   "outputs": [],
   "execution_count": null,
   "source": "",
   "id": "4c6c2d41ca2fb704"
  },
  {
   "metadata": {
    "ExecuteTime": {
     "end_time": "2024-04-19T16:30:22.256974Z",
     "start_time": "2024-04-19T16:29:37.928285Z"
    }
   },
   "cell_type": "code",
   "source": [
    "import numpy as np\n",
    "import pandas as pd\n",
    "from sklearn.model_selection import train_test_split\n",
    "from sklearn.preprocessing import StandardScaler\n",
    "from tensorflow.keras import Sequential\n",
    "from tensorflow.keras.layers import Dense, Dropout\n",
    "from tensorflow.keras.optimizers import Adam\n",
    "from sklearn.metrics import accuracy_score, precision_score, recall_score, f1_score\n",
    "from sklearn.model_selection import GridSearchCV\n",
    "# from tensorflow.keras.wrappers.scikit_learn import KerasClassifier\n",
    "from scikeras.wrappers import KerasClassifier\n",
    "\n",
    "# Split the data into features and labels\n",
    "X = combined_features\n",
    "y = labels\n",
    "\n",
    "# Split the data into training and testing sets\n",
    "X_train, X_test, y_train, y_test = train_test_split(X, y, test_size=0.2, random_state=42)\n",
    "\n",
    "# Scale the features using StandardScaler\n",
    "scaler = StandardScaler()\n",
    "X_train_scaled = scaler.fit_transform(X_train)\n",
    "X_test_scaled = scaler.transform(X_test)\n",
    "\n",
    "# Define the ANN model\n",
    "def create_model(optimizer='adam', activation='relu', dropout_rate=0.5, units=64):\n",
    "    model = Sequential()\n",
    "    model.add(Dense(units, activation=activation, input_shape=(X_train_scaled.shape[1],)))\n",
    "    model.add(Dropout(dropout_rate))\n",
    "    model.add(Dense(units, activation=activation))\n",
    "    model.add(Dropout(dropout_rate))\n",
    "    model.add(Dense(1, activation='sigmoid'))\n",
    "    model.compile(optimizer=optimizer, loss='binary_crossentropy', metrics=['accuracy'])\n",
    "    return model\n",
    "\n",
    "# Define the hyperparameter grid\n",
    "param_grid = {\n",
    "    'optimizer': ['adam', 'rmsprop'],\n",
    "    'model__activation': ['relu', 'tanh'],\n",
    "    'model__dropout_rate': [0.3, 0.5],\n",
    "    'model__units': [32, 64]\n",
    "}\n",
    "\n",
    "# Create the KerasClassifier wrapper\n",
    "model = KerasClassifier(build_fn=create_model, epochs=100, batch_size=32, verbose=0)\n",
    "\n",
    "# Perform grid search\n",
    "grid_search = GridSearchCV(estimator=model, param_grid=param_grid, cv=5, n_jobs=-1)\n",
    "grid_search.fit(X_train_scaled, y_train)\n",
    "\n",
    "# Get the best model and hyperparameters\n",
    "best_model = grid_search.best_estimator_\n",
    "best_params = grid_search.best_params_\n",
    "print(\"Best hyperparameters: \", best_params)\n",
    "\n",
    "# Evaluate the best model on the test set\n",
    "y_pred = best_model.predict(X_test_scaled)\n",
    "y_pred = np.round(y_pred).astype(int)\n",
    "\n",
    "accuracy = accuracy_score(y_test, y_pred)\n",
    "precision = precision_score(y_test, y_pred)\n",
    "recall = recall_score(y_test, y_pred)\n",
    "f1 = f1_score(y_test, y_pred)\n",
    "\n",
    "print(\"Accuracy: {:.2f}\".format(accuracy))\n",
    "print(\"Precision: {:.2f}\".format(precision))\n",
    "print(\"Recall: {:.2f}\".format(recall))\n",
    "print(\"F1-score: {:.2f}\".format(f1))"
   ],
   "id": "53fa0bd02748fb15",
   "outputs": [
    {
     "name": "stderr",
     "output_type": "stream",
     "text": [
      "C:\\Users\\mehedi\\anaconda3\\envs\\tnsr_evn\\lib\\site-packages\\scikeras\\wrappers.py:925: UserWarning: ``build_fn`` will be renamed to ``model`` in a future release, at which point use of ``build_fn`` will raise an Error instead.\n",
      "  X, y = self._initialize(X, y)\n",
      "C:\\Users\\mehedi\\anaconda3\\envs\\tnsr_evn\\lib\\site-packages\\keras\\src\\layers\\core\\dense.py:86: UserWarning: Do not pass an `input_shape`/`input_dim` argument to a layer. When using Sequential models, prefer using an `Input(shape)` object as the first layer in the model instead.\n",
      "  super().__init__(activity_regularizer=activity_regularizer, **kwargs)\n"
     ]
    },
    {
     "name": "stdout",
     "output_type": "stream",
     "text": [
      "Best hyperparameters:  {'model__activation': 'relu', 'model__dropout_rate': 0.5, 'model__units': 64, 'optimizer': 'rmsprop'}\n",
      "Accuracy: 0.72\n",
      "Precision: 0.71\n",
      "Recall: 0.71\n",
      "F1-score: 0.71\n"
     ]
    }
   ],
   "execution_count": 5
  },
  {
   "metadata": {},
   "cell_type": "code",
   "outputs": [],
   "execution_count": null,
   "source": "",
   "id": "40bf91714164343c"
  }
 ],
 "metadata": {
  "kernelspec": {
   "display_name": "Python 3",
   "language": "python",
   "name": "python3"
  },
  "language_info": {
   "codemirror_mode": {
    "name": "ipython",
    "version": 2
   },
   "file_extension": ".py",
   "mimetype": "text/x-python",
   "name": "python",
   "nbconvert_exporter": "python",
   "pygments_lexer": "ipython2",
   "version": "2.7.6"
  }
 },
 "nbformat": 4,
 "nbformat_minor": 5
}
