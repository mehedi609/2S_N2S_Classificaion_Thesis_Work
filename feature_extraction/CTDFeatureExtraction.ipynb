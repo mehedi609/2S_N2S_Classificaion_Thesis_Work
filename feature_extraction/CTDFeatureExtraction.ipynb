{
 "cells": [
  {
   "cell_type": "code",
   "execution_count": 11,
   "id": "initial_id",
   "metadata": {
    "collapsed": true,
    "ExecuteTime": {
     "end_time": "2024-04-16T15:17:36.730017Z",
     "start_time": "2024-04-16T15:17:36.711422Z"
    }
   },
   "outputs": [],
   "source": [
    "from collections import defaultdict\n",
    "\n",
    "class CTDFeatureExtraction:\n",
    "    def __init__(self):\n",
    "        self.property_groups = {\n",
    "            'hydrophobicity': {'P': 'RKEDQN', 'H': 'GASTPHY', 'N': 'CLVIMFW'},\n",
    "            'normalized_vdw': {'P': 'GASTPD', 'H': 'NVEQIL', 'N': 'MHKFRYW'},\n",
    "            'polarity': {'P': 'LIFWCMVY', 'H': 'PATGS', 'N': 'HQRKNED'},\n",
    "            'polarizability': {'P': 'GASDT', 'H': 'CPNVEQIL', 'N': 'KMHFRYW'},\n",
    "            'charge': {'P': 'KR', 'H': 'ANCQGHILMFPSTWYV', 'N': 'DE'},\n",
    "            'solvent_accessibility': {'P': 'ALFCGIVW', 'H': 'RKQEND', 'N': 'MPSTHY'},\n",
    "            'secondary_structure': {'P': 'EALMQKRH', 'H': 'VIYCWFT', 'N': 'GNPSD'}\n",
    "        }\n",
    "\n",
    "    def calculate_ctd_features(self, sequence):\n",
    "        \"\"\"\n",
    "        Calculate the CTD features for a given protein sequence.\n",
    "\n",
    "        :param sequence: The protein sequence as a string.\n",
    "        :return: A list of CTD feature values.\n",
    "        \"\"\"\n",
    "        ctd_features = []\n",
    "\n",
    "        for property_name, property_groups in self.property_groups.items():\n",
    "            c_features = self._calculate_c_features(sequence, property_groups)\n",
    "            t_features = self._calculate_t_features(sequence, property_groups)\n",
    "            d_features = self._calculate_d_features(sequence, property_groups)\n",
    "            ctd_features.extend(c_features + t_features + d_features)\n",
    "\n",
    "        return ctd_features\n",
    "\n",
    "    def _calculate_c_features(self, sequence, property_groups):\n",
    "        \"\"\"\n",
    "        Calculate the composition (C) features.\n",
    "\n",
    "        :param sequence: The protein sequence as a string.\n",
    "        :param property_groups: The property groups dictionary.\n",
    "        :return: A list of C feature values.\n",
    "        \"\"\"\n",
    "        c_features = []\n",
    "        sequence_length = len(sequence)\n",
    "\n",
    "        for group in ['P', 'H', 'N']:\n",
    "            count = sum(1 for aa in sequence if aa in property_groups[group])\n",
    "            c_features.append(count / sequence_length)\n",
    "\n",
    "        return c_features\n",
    "\n",
    "    def _calculate_t_features(self, sequence, property_groups):\n",
    "        \"\"\"\n",
    "        Calculate the transition (T) features.\n",
    "\n",
    "        :param sequence: The protein sequence as a string.\n",
    "        :param property_groups: The property groups dictionary.\n",
    "        :return: A list of T feature values.\n",
    "        \"\"\"\n",
    "        t_features = []\n",
    "        sequence_length = len(sequence)\n",
    "\n",
    "        for group_pair in [('N', 'P'), ('H', 'N'), ('P', 'H')]:\n",
    "            count = 0\n",
    "            for i in range(sequence_length - 1):\n",
    "                if sequence[i] in property_groups[group_pair[0]] and sequence[i + 1] in property_groups[group_pair[1]]:\n",
    "                    count += 1\n",
    "                elif sequence[i] in property_groups[group_pair[1]] and sequence[i + 1] in property_groups[group_pair[0]]:\n",
    "                    count += 1\n",
    "            t_features.append(count / (sequence_length - 1))\n",
    "\n",
    "        return t_features\n",
    "\n",
    "    def _calculate_d_features(self, sequence, property_groups):\n",
    "        \"\"\"\n",
    "        Calculate the distribution (D) features.\n",
    "\n",
    "        :param sequence: The protein sequence as a string.\n",
    "        :param property_groups: The property groups dictionary.\n",
    "        :return: A list of D feature values.\n",
    "        \"\"\"\n",
    "        d_features = []\n",
    "        sequence_length = len(sequence)\n",
    "\n",
    "        for group in ['P', 'H', 'N']:\n",
    "            indices = [i for i, aa in enumerate(sequence) if aa in property_groups[group]]\n",
    "            if indices:\n",
    "                d_features.append(indices[0] / sequence_length)\n",
    "                d_features.append((indices[-1] - indices[0] + 1) / sequence_length)\n",
    "                d_features.append((indices[-1] + 1) / sequence_length)\n",
    "                d_features.append(len(indices) / sequence_length)\n",
    "                d_features.append(sum(indices) / (sequence_length * len(indices)))\n",
    "            else:\n",
    "                d_features.extend([0] * 5)\n",
    "\n",
    "        return d_features\n",
    "\n",
    "# Example usage\n",
    "# sequence = \"ACDEFGHIKLMNPQRSTVWY\"\n",
    "# extractor = CTDFeatureExtraction()\n",
    "# ctd_features = extractor.calculate_ctd_features(sequence)\n",
    "# print(ctd_features)"
   ]
  },
  {
   "cell_type": "code",
   "outputs": [],
   "source": [
    "import pandas as pd\n",
    "from sklearn.preprocessing import LabelEncoder\n",
    "from sklearn.svm import SVC\n",
    "from sklearn.metrics import confusion_matrix, classification_report, accuracy_score, matthews_corrcoef\n",
    "from sklearn.model_selection import LeaveOneOut\n",
    "import numpy as np\n",
    "\n",
    "# Load the dataset\n",
    "data = pd.read_excel('../data/Final_2Sm_modified_with_sequences.xlsx')\n",
    "\n",
    "# Initialize the LabelEncoder\n",
    "label_encoder = LabelEncoder()\n",
    "\n",
    "# Fit the encoder to the folding_type column and transform it to numeric labels\n",
    "data['folding_type'] = label_encoder.fit_transform(data['folding_type'])\n",
    "\n",
    "# Now, when you extract labels for model training:\n",
    "labels = data['folding_type'].values\n",
    "\n",
    "# Initialize the FeatureExtraction class\n",
    "feature_extraction = CTDFeatureExtraction()\n",
    "\n",
    "# Feature extraction using AAC with length\n",
    "features = np.array([feature_extraction.calculate_ctd_features(seq) for seq in data['sequence']])"
   ],
   "metadata": {
    "collapsed": false,
    "ExecuteTime": {
     "end_time": "2024-04-16T15:17:37.566273Z",
     "start_time": "2024-04-16T15:17:37.421760Z"
    }
   },
   "id": "5828a314c24c5336",
   "execution_count": 12
  },
  {
   "cell_type": "code",
   "outputs": [],
   "source": [],
   "metadata": {
    "collapsed": false
   },
   "id": "269e2024f895d5f7"
  },
  {
   "cell_type": "markdown",
   "source": [
    "# Support Vector Machine (SVM) Classifier"
   ],
   "metadata": {
    "collapsed": false
   },
   "id": "6f0a687a64d5e593"
  },
  {
   "cell_type": "code",
   "outputs": [],
   "source": [
    "# SVM with Leave-One-Out Cross-Validation (LOOCV)\n",
    "loo = LeaveOneOut()\n",
    "y_true, y_pred = [], []\n",
    "for train_index, test_index in loo.split(features):\n",
    "    X_train, X_test = features[train_index], features[test_index]\n",
    "    y_train, y_test = labels[train_index], labels[test_index]\n",
    "    clf = SVC(kernel='linear')\n",
    "    clf.fit(X_train, y_train)\n",
    "    y_pred.append(clf.predict(X_test)[0])\n",
    "    y_true.append(y_test[0])"
   ],
   "metadata": {
    "collapsed": false,
    "ExecuteTime": {
     "end_time": "2024-04-16T12:47:42.789783Z",
     "start_time": "2024-04-16T12:47:42.627124Z"
    }
   },
   "id": "45e66adbc0850ef",
   "execution_count": 3
  },
  {
   "cell_type": "code",
   "outputs": [
    {
     "name": "stdout",
     "output_type": "stream",
     "text": [
      "Confusion Matrix: $KAAC\n",
      "[[88  1]\n",
      " [52  0]]\n",
      "\n",
      "Accuracy (ACC): 0.62\n",
      "Matthews Correlation Coefficient (MCC): -0.06\n",
      "\n",
      "Classification Report:\n",
      "              precision    recall  f1-score   support\n",
      "\n",
      "           0       0.63      0.99      0.77        89\n",
      "           1       0.00      0.00      0.00        52\n",
      "\n",
      "    accuracy                           0.62       141\n",
      "   macro avg       0.31      0.49      0.38       141\n",
      "weighted avg       0.40      0.62      0.49       141\n"
     ]
    }
   ],
   "source": [
    "# Calculate and display the confusion matrix\n",
    "from ClassificationMatrix import ClassificationMatrix\n",
    "\n",
    "cm = ClassificationMatrix(y_true, y_pred, 'KAAC')\n",
    "cm.evaluate()"
   ],
   "metadata": {
    "collapsed": false,
    "ExecuteTime": {
     "end_time": "2024-04-16T12:47:52.094268Z",
     "start_time": "2024-04-16T12:47:52.083268Z"
    }
   },
   "id": "1dfa646d2e1d0b67",
   "execution_count": 4
  },
  {
   "cell_type": "code",
   "outputs": [],
   "source": [],
   "metadata": {
    "collapsed": false
   },
   "id": "3795d35c7a60147c"
  },
  {
   "cell_type": "markdown",
   "source": [
    "# Random Forest Classifier with Leave-One-Out Cross-Validation (LOOCV) "
   ],
   "metadata": {
    "collapsed": false
   },
   "id": "5a673a28d1e65bb"
  },
  {
   "cell_type": "code",
   "outputs": [
    {
     "name": "stdout",
     "output_type": "stream",
     "text": [
      "Best parameters:  {'max_depth': None, 'min_samples_leaf': 2, 'min_samples_split': 5, 'n_estimators': 300}\n",
      "Best score:  0.6453900709219859\n"
     ]
    }
   ],
   "source": [
    "from sklearn.model_selection import GridSearchCV\n",
    "from sklearn.ensemble import RandomForestClassifier\n",
    "\n",
    "# Define the parameter grid\n",
    "rf_param_grid = {\n",
    "    'n_estimators': [100, 200, 300],\n",
    "    'max_depth': [None, 10, 20],\n",
    "    'min_samples_split': [2, 5, 10],\n",
    "    'min_samples_leaf': [1, 2, 4]\n",
    "}\n",
    "\n",
    "# Initialize the Random Forest classifier\n",
    "rf = RandomForestClassifier(random_state=42)\n",
    "\n",
    "# Grid search with cross validation setup\n",
    "grid_search = GridSearchCV(estimator=rf, param_grid=rf_param_grid, cv=3, scoring='accuracy')\n",
    "\n",
    "# Fit the grid search to find the best parameters\n",
    "grid_search.fit(features, labels)\n",
    "\n",
    "# Get the best parameters and best score\n",
    "best_params = grid_search.best_params_\n",
    "best_score = grid_search.best_score_\n",
    "\n",
    "print(\"Best parameters: \", best_params)\n",
    "print(\"Best score: \", best_score)\n",
    "\n",
    "# Using the best parameters with LOOCV\n",
    "best_rf = RandomForestClassifier(**best_params, random_state=42)\n",
    "loo = LeaveOneOut()\n",
    "y_true, y_pred = [], []\n",
    "\n",
    "for train_index, test_index in loo.split(features):\n",
    "    X_train, X_test = features[train_index], features[test_index]\n",
    "    y_train, y_test = labels[train_index], labels[test_index]\n",
    "    best_rf.fit(X_train, y_train)\n",
    "    y_pred.append(best_rf.predict(X_test)[0])\n",
    "    y_true.append(y_test[0])"
   ],
   "metadata": {
    "collapsed": false,
    "ExecuteTime": {
     "end_time": "2024-04-16T14:37:47.832823Z",
     "start_time": "2024-04-16T14:35:42.872107Z"
    }
   },
   "id": "6fcf7853ebc1afb8",
   "execution_count": 7
  },
  {
   "cell_type": "code",
   "outputs": [
    {
     "name": "stdout",
     "output_type": "stream",
     "text": [
      "Confusion Matrix: $CTD\n",
      "[[80  9]\n",
      " [31 21]]\n",
      "\n",
      "Accuracy (ACC): 0.72\n",
      "Matthews Correlation Coefficient (MCC): 0.36\n",
      "\n",
      "Classification Report:\n",
      "              precision    recall  f1-score   support\n",
      "\n",
      "           0       0.72      0.90      0.80        89\n",
      "           1       0.70      0.40      0.51        52\n",
      "\n",
      "    accuracy                           0.72       141\n",
      "   macro avg       0.71      0.65      0.66       141\n",
      "weighted avg       0.71      0.72      0.69       141\n"
     ]
    }
   ],
   "source": [
    "# Evaluate the model\n",
    "# Calculate and display the confusion matrix\n",
    "from ClassificationMatrix import ClassificationMatrix\n",
    "\n",
    "cm = ClassificationMatrix(y_true, y_pred, 'CTD')\n",
    "cm.evaluate()"
   ],
   "metadata": {
    "collapsed": false,
    "ExecuteTime": {
     "end_time": "2024-04-16T14:37:53.052643Z",
     "start_time": "2024-04-16T14:37:53.038582Z"
    }
   },
   "id": "eec73786afd629eb",
   "execution_count": 8
  },
  {
   "cell_type": "code",
   "outputs": [],
   "source": [],
   "metadata": {
    "collapsed": false
   },
   "id": "683979458fea79ff"
  },
  {
   "cell_type": "markdown",
   "source": [],
   "metadata": {
    "collapsed": false
   },
   "id": "50e41bf1491f5235"
  },
  {
   "cell_type": "markdown",
   "source": [
    "# kernel support vector machine (SVM) classifier with Leave-One-Out Cross-Validation (LOOCV)"
   ],
   "metadata": {
    "collapsed": false
   },
   "id": "a553097372ed8a67"
  },
  {
   "cell_type": "code",
   "outputs": [
    {
     "name": "stdout",
     "output_type": "stream",
     "text": [
      "Best parameters for SVM:  {'C': 0.1, 'degree': 3, 'gamma': 'scale', 'kernel': 'rbf'}\n",
      "Best score for SVM:  0.6312056737588653\n"
     ]
    }
   ],
   "source": [
    "from sklearn.model_selection import GridSearchCV, LeaveOneOut\n",
    "from sklearn.svm import SVC\n",
    "from sklearn.metrics import accuracy_score\n",
    "\n",
    "# Define the parameter grid\n",
    "svm_param_grid = {\n",
    "    'C': [0.1, 1, 10],\n",
    "    'kernel': ['rbf', 'poly', 'sigmoid'],\n",
    "    'gamma': ['scale', 'auto'],\n",
    "    'degree': [3, 4, 5]  # This is only used by the 'poly' kernel\n",
    "}\n",
    "\n",
    "# Initialize the SVM classifier\n",
    "svm = SVC(random_state=42)\n",
    "\n",
    "# Grid search with cross validation setup\n",
    "grid_search_svm = GridSearchCV(estimator=svm, param_grid=svm_param_grid, cv=3, scoring='accuracy')\n",
    "\n",
    "# Fit the grid search to find the best parameters\n",
    "grid_search_svm.fit(features, labels)\n",
    "\n",
    "# Get the best parameters and best score\n",
    "best_params_svm = grid_search_svm.best_params_\n",
    "best_score_svm = grid_search_svm.best_score_\n",
    "\n",
    "print(\"Best parameters for SVM: \", best_params_svm)\n",
    "print(\"Best score for SVM: \", best_score_svm)\n",
    "\n",
    "# Using the best parameters with LOOCV for SVM\n",
    "best_svm = SVC(**best_params_svm, random_state=42)\n",
    "loo = LeaveOneOut()\n",
    "y_true_svm, y_pred_svm = [], []\n",
    "\n",
    "for train_index, test_index in loo.split(features):\n",
    "    X_train, X_test = features[train_index], features[test_index]\n",
    "    y_train, y_test = labels[train_index], labels[test_index]\n",
    "    best_svm.fit(X_train, y_train)\n",
    "    y_pred_svm.append(best_svm.predict(X_test)[0])\n",
    "    y_true_svm.append(y_test[0])"
   ],
   "metadata": {
    "collapsed": false,
    "ExecuteTime": {
     "end_time": "2024-04-16T15:17:45.234541Z",
     "start_time": "2024-04-16T15:17:44.680204Z"
    }
   },
   "id": "faf30fb7fc867ba0",
   "execution_count": 13
  },
  {
   "cell_type": "code",
   "outputs": [
    {
     "name": "stdout",
     "output_type": "stream",
     "text": [
      "Confusion Matrix: $CTD\n",
      "[[80  9]\n",
      " [31 21]]\n",
      "\n",
      "Accuracy (ACC): 0.72\n",
      "Matthews Correlation Coefficient (MCC): 0.36\n",
      "\n",
      "Classification Report:\n",
      "              precision    recall  f1-score   support\n",
      "\n",
      "           0       0.72      0.90      0.80        89\n",
      "           1       0.70      0.40      0.51        52\n",
      "\n",
      "    accuracy                           0.72       141\n",
      "   macro avg       0.71      0.65      0.66       141\n",
      "weighted avg       0.71      0.72      0.69       141\n"
     ]
    }
   ],
   "source": [
    "# Evaluate the model\n",
    "# Calculate and display the confusion matrix\n",
    "from ClassificationMatrix import ClassificationMatrix\n",
    "\n",
    "cm = ClassificationMatrix(y_true, y_pred, 'CTD')\n",
    "cm.evaluate()"
   ],
   "metadata": {
    "collapsed": false,
    "ExecuteTime": {
     "end_time": "2024-04-16T15:17:48.990829Z",
     "start_time": "2024-04-16T15:17:48.975329Z"
    }
   },
   "id": "94cbfb373dbdc76a",
   "execution_count": 14
  },
  {
   "cell_type": "code",
   "outputs": [],
   "source": [],
   "metadata": {
    "collapsed": false
   },
   "id": "d33209079778ffc9"
  }
 ],
 "metadata": {
  "kernelspec": {
   "display_name": "Python 3",
   "language": "python",
   "name": "python3"
  },
  "language_info": {
   "codemirror_mode": {
    "name": "ipython",
    "version": 2
   },
   "file_extension": ".py",
   "mimetype": "text/x-python",
   "name": "python",
   "nbconvert_exporter": "python",
   "pygments_lexer": "ipython2",
   "version": "2.7.6"
  }
 },
 "nbformat": 4,
 "nbformat_minor": 5
}
