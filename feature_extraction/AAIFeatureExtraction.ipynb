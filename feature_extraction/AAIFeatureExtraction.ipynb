{
 "cells": [
  {
   "cell_type": "code",
   "execution_count": 6,
   "id": "initial_id",
   "metadata": {
    "collapsed": true,
    "ExecuteTime": {
     "end_time": "2024-04-16T14:26:04.031705Z",
     "start_time": "2024-04-16T14:26:03.952205Z"
    }
   },
   "outputs": [],
   "source": [
    "from collections import defaultdict\n",
    "\n",
    "class AAIFeatureExtraction:\n",
    "    def __init__(self):\n",
    "        self.amino_acids = 'ACDEFGHIKLMNPQRSTVWY'\n",
    "        self.aai_data = {\n",
    "            'TSAJ990101': {'A': 0.48, 'R': 0.95, 'N': 0.27, 'D': 0.08, 'C': 1.38, 'Q': 0.22, 'E': 0.11, 'G': 0.00, 'H': 0.66, 'I': 2.22, 'L': 1.53, 'K': 1.15, 'M': 1.18, 'F': 2.12, 'P': 0.39, 'S': 0.19, 'T': 0.73, 'W': 2.66, 'Y': 1.61, 'V': 1.73},\n",
    "            'LIFS790101': {'A': 0.52, 'R': -0.68, 'N': -0.70, 'D': -0.81, 'C': 0.25, 'Q': -0.41, 'E': -0.83, 'G': 0.00, 'H': -0.50, 'I': 2.46, 'L': 1.82, 'K': -0.63, 'M': 1.40, 'F': 2.44, 'P': -0.21, 'S': -0.36, 'T': -0.03, 'W': 2.26, 'Y': 1.39, 'V': 1.78},\n",
    "            'MIYS990104': {'A': -0.02, 'R': -0.42, 'N': -0.77, 'D': -1.04, 'C': 0.77, 'Q': -0.91, 'E': -1.14, 'G': -0.80, 'H': 0.26, 'I': 1.81, 'L': 1.14, 'K': -0.41, 'M': 1.00, 'F': 1.35, 'P': -0.09, 'S': -0.97, 'T': -0.77, 'W': 1.71, 'Y': 1.11, 'V': 0.91},\n",
    "            'CEDJ970104': {'A': 7.0, 'R': 93.0, 'N': 58.0, 'D': 40.0, 'C': 1.0, 'Q': 72.0, 'E': 83.0, 'G': 3.0, 'H': 83.0, 'I': 1.0, 'L': 1.0, 'K': 56.0, 'M': 10.0, 'F': 1.0, 'P': 55.0, 'S': 42.0, 'T': 32.0, 'W': 1.0, 'Y': 3.0, 'V': 3.0},\n",
    "            'MAXF760101': {'A': 113.0, 'R': 241.0, 'N': 158.0, 'D': 151.0, 'C': 140.0, 'Q': 198.0, 'E': 183.0, 'G': 85.0, 'H': 202.0, 'I': 108.0, 'L': 137.0, 'K': 211.0, 'M': 160.0, 'F': 113.0, 'P': 57.0, 'S': 143.0, 'T': 146.0, 'W': 163.0, 'Y': 117.0, 'V': 105.0},\n",
    "            'BIOV880101': {'A': 0.61, 'R': -0.39, 'N': -0.92, 'D': -1.31, 'C': 1.52, 'Q': -1.22, 'E': -1.61, 'G': 0.0, 'H': -0.64, 'I': 2.22, 'L': 1.53, 'K': -0.67, 'M': 1.18, 'F': 2.12, 'P': -0.49, 'S': -1.07, 'T': -1.21, 'W': 1.60, 'Y': 0.01, 'V': 1.73},\n",
    "            'BLAM930101': {'A': 0.357, 'R': 0.529, 'N': 0.463, 'D': 0.511, 'C': 0.346, 'Q': 0.493, 'E': 0.497, 'G': 0.544, 'H': 0.323, 'I': 0.462, 'L': 0.365, 'K': 0.466, 'M': 0.295, 'F': 0.314, 'P': 0.509, 'S': 0.507, 'T': 0.444, 'W': 0.305, 'Y': 0.420, 'V': 0.386},\n",
    "            'NAKH920108': {'A': 8.1, 'R': 10.5, 'N': 11.6, 'D': 13.0, 'C': 5.5, 'Q': 10.5, 'E': 12.3, 'G': 9.0, 'H': 10.4, 'I': 5.2, 'L': 4.9, 'K': 11.3, 'M': 5.7, 'F': 5.2, 'P': 8.0, 'S': 9.2, 'T': 8.6, 'W': 5.4, 'Y': 6.2, 'V': 5.9}\n",
    "        }\n",
    "\n",
    "    def calculate_aai_features(self, sequence):\n",
    "        \"\"\"\n",
    "        Calculate the AAI features for a given protein sequence.\n",
    "\n",
    "        :param sequence: The protein sequence as a string.\n",
    "        :return: A list of AAI feature values.\n",
    "        \"\"\"\n",
    "        # Initialize a dictionary to store the counts of each amino acid\n",
    "        aa_counts = defaultdict(int)\n",
    "\n",
    "        # Count the occurrences of each amino acid in the sequence\n",
    "        for aa in sequence:\n",
    "            if aa in self.amino_acids:\n",
    "                aa_counts[aa] += 1\n",
    "\n",
    "        # Calculate the total number of amino acids in the sequence\n",
    "        total_aa = sum(aa_counts.values())\n",
    "\n",
    "        # Initialize a list to store the AAI feature values\n",
    "        aai_features = []\n",
    "\n",
    "        # Calculate the AAI feature values for each amino acid index\n",
    "        for index in self.aai_data:\n",
    "            index_values = self.aai_data[index]\n",
    "            for aa in self.amino_acids:\n",
    "                if total_aa > 0:\n",
    "                    aai_features.append(aa_counts[aa] * index_values[aa] / total_aa)\n",
    "                else:\n",
    "                    aai_features.append(0)\n",
    "\n",
    "        return aai_features\n",
    "\n",
    "# Example usage\n",
    "# sequence = \"ACDEFGHIKLMNPQRSTVWY\"\n",
    "# extractor = AAIFeatureExtraction()\n",
    "# aai_features = extractor.calculate_aai_features(sequence)\n",
    "# print(aai_features)"
   ]
  },
  {
   "cell_type": "code",
   "outputs": [],
   "source": [
    "import pandas as pd\n",
    "from sklearn.preprocessing import LabelEncoder\n",
    "from sklearn.svm import SVC\n",
    "from sklearn.metrics import confusion_matrix, classification_report, accuracy_score, matthews_corrcoef\n",
    "from sklearn.model_selection import LeaveOneOut\n",
    "import numpy as np\n",
    "\n",
    "# Load the dataset\n",
    "data = pd.read_excel('../data/Final_2Sm_modified_with_sequences.xlsx')\n",
    "\n",
    "# Initialize the LabelEncoder\n",
    "label_encoder = LabelEncoder()\n",
    "\n",
    "# Fit the encoder to the folding_type column and transform it to numeric labels\n",
    "data['folding_type'] = label_encoder.fit_transform(data['folding_type'])\n",
    "\n",
    "# Now, when you extract labels for model training:\n",
    "labels = data['folding_type'].values\n",
    "\n",
    "# Initialize the FeatureExtraction class\n",
    "feature_extraction = AAIFeatureExtraction()\n",
    "\n",
    "# Feature extraction using AAC with length\n",
    "features = np.array([feature_extraction.calculate_aai_features(seq) for seq in data['sequence']])"
   ],
   "metadata": {
    "collapsed": false,
    "ExecuteTime": {
     "end_time": "2024-04-16T14:26:07.178361Z",
     "start_time": "2024-04-16T14:26:07.117156Z"
    }
   },
   "id": "b914206e55e45dae",
   "execution_count": 7
  },
  {
   "cell_type": "code",
   "outputs": [],
   "source": [],
   "metadata": {
    "collapsed": false
   },
   "id": "57ff137caf0811a"
  },
  {
   "cell_type": "markdown",
   "source": [
    "# Support Vector Machine (SVM) Classifier"
   ],
   "metadata": {
    "collapsed": false
   },
   "id": "537c1f2dff6d08fa"
  },
  {
   "cell_type": "code",
   "outputs": [],
   "source": [
    "# SVM with Leave-One-Out Cross-Validation (LOOCV)\n",
    "loo = LeaveOneOut()\n",
    "y_true, y_pred = [], []\n",
    "for train_index, test_index in loo.split(features):\n",
    "    X_train, X_test = features[train_index], features[test_index]\n",
    "    y_train, y_test = labels[train_index], labels[test_index]\n",
    "    clf = SVC(kernel='linear')\n",
    "    clf.fit(X_train, y_train)\n",
    "    y_pred.append(clf.predict(X_test)[0])\n",
    "    y_true.append(y_test[0])"
   ],
   "metadata": {
    "collapsed": false,
    "ExecuteTime": {
     "end_time": "2024-04-16T12:03:44.571012Z",
     "start_time": "2024-04-16T12:03:39.547348Z"
    }
   },
   "id": "f3e2d7f777f2cb5d",
   "execution_count": 4
  },
  {
   "cell_type": "code",
   "outputs": [
    {
     "name": "stdout",
     "output_type": "stream",
     "text": [
      "Confusion Matrix: $KAAC\n",
      "[[62 27]\n",
      " [29 23]]\n",
      "\n",
      "Accuracy (ACC): 0.60\n",
      "Matthews Correlation Coefficient (MCC): 0.14\n",
      "\n",
      "Classification Report:\n",
      "              precision    recall  f1-score   support\n",
      "\n",
      "           0       0.68      0.70      0.69        89\n",
      "           1       0.46      0.44      0.45        52\n",
      "\n",
      "    accuracy                           0.60       141\n",
      "   macro avg       0.57      0.57      0.57       141\n",
      "weighted avg       0.60      0.60      0.60       141\n"
     ]
    }
   ],
   "source": [
    "# Calculate and display the confusion matrix\n",
    "from ClassificationMatrix import ClassificationMatrix\n",
    "\n",
    "cm = ClassificationMatrix(y_true, y_pred, 'KAAC')\n",
    "cm.evaluate()"
   ],
   "metadata": {
    "collapsed": false,
    "ExecuteTime": {
     "end_time": "2024-04-16T12:03:48.275143Z",
     "start_time": "2024-04-16T12:03:48.254135Z"
    }
   },
   "id": "710437ae44c59fe2",
   "execution_count": 5
  },
  {
   "cell_type": "code",
   "outputs": [],
   "source": [],
   "metadata": {
    "collapsed": false
   },
   "id": "1e7a48d3b90df905"
  },
  {
   "cell_type": "markdown",
   "source": [
    "# Random Forest Classifier with Hyperparameter Tuning using Leave-One-Out Cross-Validation (LOOCV)"
   ],
   "metadata": {
    "collapsed": false
   },
   "id": "362da0261e94965a"
  },
  {
   "cell_type": "code",
   "outputs": [
    {
     "name": "stdout",
     "output_type": "stream",
     "text": [
      "Best parameters:  {'max_depth': None, 'min_samples_leaf': 1, 'min_samples_split': 10, 'n_estimators': 100}\n",
      "Best score:  0.5886524822695035\n"
     ]
    }
   ],
   "source": [
    "from sklearn.model_selection import GridSearchCV\n",
    "from sklearn.ensemble import RandomForestClassifier\n",
    "\n",
    "# Define the parameter grid\n",
    "rf_param_grid = {\n",
    "    'n_estimators': [100, 200, 300],\n",
    "    'max_depth': [None, 10, 20],\n",
    "    'min_samples_split': [2, 5, 10],\n",
    "    'min_samples_leaf': [1, 2, 4]\n",
    "}\n",
    "\n",
    "# Initialize the Random Forest classifier\n",
    "rf = RandomForestClassifier(random_state=42)\n",
    "\n",
    "# Grid search with cross validation setup\n",
    "grid_search = GridSearchCV(estimator=rf, param_grid=rf_param_grid, cv=3, scoring='accuracy')\n",
    "\n",
    "# Fit the grid search to find the best parameters\n",
    "grid_search.fit(features, labels)\n",
    "\n",
    "# Get the best parameters and best score\n",
    "best_params = grid_search.best_params_\n",
    "best_score = grid_search.best_score_\n",
    "\n",
    "print(\"Best parameters: \", best_params)\n",
    "print(\"Best score: \", best_score)\n",
    "\n",
    "# Using the best parameters with LOOCV\n",
    "best_rf = RandomForestClassifier(**best_params, random_state=42)\n",
    "loo = LeaveOneOut()\n",
    "y_true, y_pred = [], []\n",
    "\n",
    "for train_index, test_index in loo.split(features):\n",
    "    X_train, X_test = features[train_index], features[test_index]\n",
    "    y_train, y_test = labels[train_index], labels[test_index]\n",
    "    best_rf.fit(X_train, y_train)\n",
    "    y_pred.append(best_rf.predict(X_test)[0])\n",
    "    y_true.append(y_test[0])"
   ],
   "metadata": {
    "collapsed": false,
    "ExecuteTime": {
     "end_time": "2024-04-16T14:28:05.433110Z",
     "start_time": "2024-04-16T14:26:44.109617Z"
    }
   },
   "id": "e88f91a58d68ba7a",
   "execution_count": 8
  },
  {
   "cell_type": "code",
   "outputs": [
    {
     "name": "stdout",
     "output_type": "stream",
     "text": [
      "Confusion Matrix: $AAI\n",
      "[[81  8]\n",
      " [38 14]]\n",
      "\n",
      "Accuracy (ACC): 0.67\n",
      "Matthews Correlation Coefficient (MCC): 0.24\n",
      "\n",
      "Classification Report:\n",
      "              precision    recall  f1-score   support\n",
      "\n",
      "           0       0.68      0.91      0.78        89\n",
      "           1       0.64      0.27      0.38        52\n",
      "\n",
      "    accuracy                           0.67       141\n",
      "   macro avg       0.66      0.59      0.58       141\n",
      "weighted avg       0.66      0.67      0.63       141\n"
     ]
    }
   ],
   "source": [
    "# Evaluate the model\n",
    "# Calculate and display the confusion matrix\n",
    "from ClassificationMatrix import ClassificationMatrix\n",
    "\n",
    "cm = ClassificationMatrix(y_true, y_pred, 'AAI')\n",
    "cm.evaluate()"
   ],
   "metadata": {
    "collapsed": false,
    "ExecuteTime": {
     "end_time": "2024-04-16T14:28:11.798945Z",
     "start_time": "2024-04-16T14:28:11.784432Z"
    }
   },
   "id": "e355863985e231c3",
   "execution_count": 9
  }
 ],
 "metadata": {
  "kernelspec": {
   "display_name": "Python 3",
   "language": "python",
   "name": "python3"
  },
  "language_info": {
   "codemirror_mode": {
    "name": "ipython",
    "version": 2
   },
   "file_extension": ".py",
   "mimetype": "text/x-python",
   "name": "python",
   "nbconvert_exporter": "python",
   "pygments_lexer": "ipython2",
   "version": "2.7.6"
  }
 },
 "nbformat": 4,
 "nbformat_minor": 5
}
