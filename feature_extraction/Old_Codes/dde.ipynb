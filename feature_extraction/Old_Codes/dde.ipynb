{
 "cells": [
  {
   "cell_type": "code",
   "outputs": [],
   "source": [
    "import pandas as pd\n",
    "from sklearn.preprocessing import LabelEncoder\n",
    "from sklearn.svm import SVC\n",
    "from sklearn.metrics import confusion_matrix, classification_report, accuracy_score, matthews_corrcoef\n",
    "from sklearn.model_selection import LeaveOneOut\n",
    "import numpy as np\n",
    "\n",
    "from feature_extraction import FeatureExtraction\n",
    "\n",
    "# Load the dataset\n",
    "data = pd.read_excel('../data/Final_2Sm_modified_with_sequences.xlsx')\n",
    "\n",
    "# Initialize the LabelEncoder\n",
    "label_encoder = LabelEncoder()\n",
    "\n",
    "# Fit the encoder to the folding_type column and transform it to numeric labels\n",
    "data['folding_type'] = label_encoder.fit_transform(data['folding_type'])\n",
    "\n",
    "# Now, when you extract labels for model training:\n",
    "labels = data['folding_type'].values\n",
    "\n",
    "# Initialize the FeatureExtraction class\n",
    "feature_extraction = FeatureExtraction()\n",
    "\n",
    "# Feature extraction using AAC with length\n",
    "features = np.array([feature_extraction.calculate_dde(seq) for seq in data['sequence']])\n",
    "\n",
    "# SVM with Leave-One-Out Cross-Validation (LOOCV)\n",
    "loo = LeaveOneOut()\n",
    "y_true, y_pred = [], []\n",
    "for train_index, test_index in loo.split(features):\n",
    "    X_train, X_test = features[train_index], features[test_index]\n",
    "    y_train, y_test = labels[train_index], labels[test_index]\n",
    "    clf = SVC(kernel='linear')\n",
    "    clf.fit(X_train, y_train)\n",
    "    y_pred.append(clf.predict(X_test)[0])\n",
    "    y_true.append(y_test[0])"
   ],
   "metadata": {
    "collapsed": false,
    "ExecuteTime": {
     "end_time": "2024-04-16T07:35:00.141174Z",
     "start_time": "2024-04-16T07:34:59.627683Z"
    }
   },
   "id": "62b03be642549068",
   "execution_count": 2
  },
  {
   "cell_type": "code",
   "outputs": [
    {
     "name": "stdout",
     "output_type": "stream",
     "text": [
      "Confusion Matrix:\n",
      "[[59 30]\n",
      " [25 27]]\n",
      "\n",
      "Accuracy (ACC): 0.61\n",
      "Matthews Correlation Coefficient (MCC): 0.18\n",
      "\n",
      "Classification Report:\n",
      "              precision    recall  f1-score   support\n",
      "\n",
      "           0       0.70      0.66      0.68        89\n",
      "           1       0.47      0.52      0.50        52\n",
      "\n",
      "    accuracy                           0.61       141\n",
      "   macro avg       0.59      0.59      0.59       141\n",
      "weighted avg       0.62      0.61      0.61       141\n"
     ]
    }
   ],
   "source": [
    "# Calculate and display the confusion matrix\n",
    "conf_matrix = confusion_matrix(y_true, y_pred)\n",
    "print(\"Confusion Matrix:\")\n",
    "print(conf_matrix)\n",
    "\n",
    "# Calculate and display the accuracy\n",
    "accuracy = accuracy_score(y_true, y_pred)\n",
    "print(f\"\\nAccuracy (ACC): {accuracy:.2f}\")\n",
    "\n",
    "# Calculate and display the Matthews Correlation Coefficient (MCC)\n",
    "mcc = matthews_corrcoef(y_true, y_pred)\n",
    "print(f\"Matthews Correlation Coefficient (MCC): {mcc:.2f}\")\n",
    "\n",
    "# Generate classification report\n",
    "report = classification_report(y_true, y_pred, zero_division=0)\n",
    "print(\"\\nClassification Report:\")\n",
    "print(report)"
   ],
   "metadata": {
    "collapsed": false,
    "ExecuteTime": {
     "end_time": "2024-04-16T07:35:02.921585Z",
     "start_time": "2024-04-16T07:35:02.901585Z"
    }
   },
   "id": "25210a157ae6701d",
   "execution_count": 3
  }
 ],
 "metadata": {
  "kernelspec": {
   "display_name": "Python 3",
   "language": "python",
   "name": "python3"
  },
  "language_info": {
   "codemirror_mode": {
    "name": "ipython",
    "version": 2
   },
   "file_extension": ".py",
   "mimetype": "text/x-python",
   "name": "python",
   "nbconvert_exporter": "python",
   "pygments_lexer": "ipython2",
   "version": "2.7.6"
  }
 },
 "nbformat": 4,
 "nbformat_minor": 5
}
