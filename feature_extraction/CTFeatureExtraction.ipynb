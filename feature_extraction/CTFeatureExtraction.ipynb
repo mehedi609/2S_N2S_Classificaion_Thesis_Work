{
 "cells": [
  {
   "cell_type": "code",
   "execution_count": 6,
   "id": "initial_id",
   "metadata": {
    "collapsed": true,
    "ExecuteTime": {
     "end_time": "2024-04-16T14:23:19.164187Z",
     "start_time": "2024-04-16T14:23:19.126676Z"
    }
   },
   "outputs": [],
   "source": [
    "from collections import defaultdict\n",
    "\n",
    "class CTFeatureExtraction:\n",
    "    def __init__(self):\n",
    "        self.amino_acid_groups = {\n",
    "            1: 'AVG',\n",
    "            2: 'TSYM',\n",
    "            3: 'FLIP',\n",
    "            4: 'HQNW',\n",
    "            5: 'DE',\n",
    "            6: 'RK',\n",
    "            7: 'C'\n",
    "        }\n",
    "\n",
    "    def calculate_ct_features(self, sequence):\n",
    "        \"\"\"\n",
    "        Calculate the CT features for a given protein sequence.\n",
    "\n",
    "        :param sequence: The protein sequence as a string.\n",
    "        :return: A list of CT feature values.\n",
    "        \"\"\"\n",
    "        # Create a mapping of amino acids to their corresponding groups\n",
    "        aa_to_group = {}\n",
    "        for group, amino_acids in self.amino_acid_groups.items():\n",
    "            for aa in amino_acids:\n",
    "                aa_to_group[aa] = group\n",
    "\n",
    "        # Initialize a dictionary to store the counts of each triad\n",
    "        triad_counts = defaultdict(int)\n",
    "\n",
    "        # Iterate over the sequence and count the occurrences of each triad\n",
    "        for i in range(len(sequence) - 2):\n",
    "            triad = ''.join([str(aa_to_group.get(aa, 0)) for aa in sequence[i:i+3]])\n",
    "            triad_counts[triad] += 1\n",
    "\n",
    "        # Calculate the total number of triads\n",
    "        total_triads = sum(triad_counts.values())\n",
    "\n",
    "        # Initialize a list to store the CT feature values\n",
    "        ct_features = []\n",
    "\n",
    "        # Calculate the CT feature values for each possible triad\n",
    "        for i in range(1, len(self.amino_acid_groups) + 1):\n",
    "            for j in range(1, len(self.amino_acid_groups) + 1):\n",
    "                for k in range(1, len(self.amino_acid_groups) + 1):\n",
    "                    triad = f'{i}{j}{k}'\n",
    "                    if total_triads > 0:\n",
    "                        ct_features.append(triad_counts[triad] / total_triads)\n",
    "                    else:\n",
    "                        ct_features.append(0)\n",
    "\n",
    "        return ct_features\n",
    "\n",
    "# Example usage\n",
    "# sequence = \"ACDEFGHIKLMNPQRSTVWY\"\n",
    "# extractor = CTFeatureExtraction()\n",
    "# ct_features = extractor.calculate_ct_features(sequence)\n",
    "# print(ct_features)"
   ]
  },
  {
   "cell_type": "code",
   "outputs": [],
   "source": [
    "import pandas as pd\n",
    "from sklearn.preprocessing import LabelEncoder\n",
    "from sklearn.svm import SVC\n",
    "from sklearn.metrics import confusion_matrix, classification_report, accuracy_score, matthews_corrcoef\n",
    "from sklearn.model_selection import LeaveOneOut\n",
    "import numpy as np\n",
    "\n",
    "# Load the dataset\n",
    "data = pd.read_excel('../data/Final_2Sm_modified_with_sequences.xlsx')\n",
    "\n",
    "# Initialize the LabelEncoder\n",
    "label_encoder = LabelEncoder()\n",
    "\n",
    "# Fit the encoder to the folding_type column and transform it to numeric labels\n",
    "data['folding_type'] = label_encoder.fit_transform(data['folding_type'])\n",
    "\n",
    "# Now, when you extract labels for model training:\n",
    "labels = data['folding_type'].values\n",
    "\n",
    "# Initialize the FeatureExtraction class\n",
    "feature_extraction = CTFeatureExtraction()\n",
    "\n",
    "# Feature extraction using AAC with length\n",
    "features = np.array([feature_extraction.calculate_ct_features(seq) for seq in data['sequence']])"
   ],
   "metadata": {
    "collapsed": false,
    "ExecuteTime": {
     "end_time": "2024-04-16T14:23:19.999455Z",
     "start_time": "2024-04-16T14:23:19.908152Z"
    }
   },
   "id": "af8fdaf546abbc83",
   "execution_count": 7
  },
  {
   "cell_type": "code",
   "outputs": [],
   "source": [],
   "metadata": {
    "collapsed": false
   },
   "id": "5cc82c46f3358bf3"
  },
  {
   "cell_type": "markdown",
   "source": [
    "# Support Vector Machine (SVM) Classifier"
   ],
   "metadata": {
    "collapsed": false
   },
   "id": "957a7b8ad5bb8c1f"
  },
  {
   "cell_type": "code",
   "outputs": [],
   "source": [
    "# SVM with Leave-One-Out Cross-Validation (LOOCV)\n",
    "loo = LeaveOneOut()\n",
    "y_true, y_pred = [], []\n",
    "for train_index, test_index in loo.split(features):\n",
    "    X_train, X_test = features[train_index], features[test_index]\n",
    "    y_train, y_test = labels[train_index], labels[test_index]\n",
    "    clf = SVC(kernel='linear')\n",
    "    clf.fit(X_train, y_train)\n",
    "    y_pred.append(clf.predict(X_test)[0])\n",
    "    y_true.append(y_test[0])"
   ],
   "metadata": {
    "collapsed": false,
    "ExecuteTime": {
     "end_time": "2024-04-16T12:13:50.544683Z",
     "start_time": "2024-04-16T12:13:50.291652Z"
    }
   },
   "id": "6f5ae54fb75b63a8",
   "execution_count": 4
  },
  {
   "cell_type": "code",
   "outputs": [
    {
     "name": "stdout",
     "output_type": "stream",
     "text": [
      "Confusion Matrix: $KAAC\n",
      "[[89  0]\n",
      " [52  0]]\n",
      "\n",
      "Accuracy (ACC): 0.63\n",
      "Matthews Correlation Coefficient (MCC): 0.00\n",
      "\n",
      "Classification Report:\n",
      "              precision    recall  f1-score   support\n",
      "\n",
      "           0       0.63      1.00      0.77        89\n",
      "           1       0.00      0.00      0.00        52\n",
      "\n",
      "    accuracy                           0.63       141\n",
      "   macro avg       0.32      0.50      0.39       141\n",
      "weighted avg       0.40      0.63      0.49       141\n"
     ]
    }
   ],
   "source": [
    "# Calculate and display the confusion matrix\n",
    "from ClassificationMatrix import ClassificationMatrix\n",
    "\n",
    "cm = ClassificationMatrix(y_true, y_pred, 'KAAC')\n",
    "cm.evaluate()"
   ],
   "metadata": {
    "collapsed": false,
    "ExecuteTime": {
     "end_time": "2024-04-16T12:13:58.289675Z",
     "start_time": "2024-04-16T12:13:58.268168Z"
    }
   },
   "id": "b1daf69796b02b23",
   "execution_count": 5
  },
  {
   "cell_type": "code",
   "outputs": [],
   "source": [],
   "metadata": {
    "collapsed": false
   },
   "id": "bc49439ddc6553ed"
  },
  {
   "cell_type": "markdown",
   "source": [
    "# Random Forest Classifier implementation with Hyperparameter Tuning"
   ],
   "metadata": {
    "collapsed": false
   },
   "id": "42005ab56585a5b5"
  },
  {
   "cell_type": "code",
   "outputs": [
    {
     "name": "stdout",
     "output_type": "stream",
     "text": [
      "Best parameters:  {'max_depth': None, 'min_samples_leaf': 1, 'min_samples_split': 2, 'n_estimators': 200}\n",
      "Best score:  0.7234042553191489\n"
     ]
    }
   ],
   "source": [
    "from sklearn.model_selection import GridSearchCV\n",
    "from sklearn.ensemble import RandomForestClassifier\n",
    "\n",
    "# Define the parameter grid\n",
    "rf_param_grid = {\n",
    "    'n_estimators': [100, 200, 300],\n",
    "    'max_depth': [None, 10, 20],\n",
    "    'min_samples_split': [2, 5, 10],\n",
    "    'min_samples_leaf': [1, 2, 4]\n",
    "}\n",
    "\n",
    "# Initialize the Random Forest classifier\n",
    "rf = RandomForestClassifier(random_state=42)\n",
    "\n",
    "# Grid search with cross validation setup\n",
    "grid_search = GridSearchCV(estimator=rf, param_grid=rf_param_grid, cv=3, scoring='accuracy')\n",
    "\n",
    "# Fit the grid search to find the best parameters\n",
    "grid_search.fit(features, labels)\n",
    "\n",
    "# Get the best parameters and best score\n",
    "best_params = grid_search.best_params_\n",
    "best_score = grid_search.best_score_\n",
    "\n",
    "print(\"Best parameters: \", best_params)\n",
    "print(\"Best score: \", best_score)\n",
    "\n",
    "# Using the best parameters with LOOCV\n",
    "best_rf = RandomForestClassifier(**best_params, random_state=42)\n",
    "loo = LeaveOneOut()\n",
    "y_true, y_pred = [], []\n",
    "\n",
    "for train_index, test_index in loo.split(features):\n",
    "    X_train, X_test = features[train_index], features[test_index]\n",
    "    y_train, y_test = labels[train_index], labels[test_index]\n",
    "    best_rf.fit(X_train, y_train)\n",
    "    y_pred.append(best_rf.predict(X_test)[0])\n",
    "    y_true.append(y_test[0])"
   ],
   "metadata": {
    "collapsed": false,
    "ExecuteTime": {
     "end_time": "2024-04-16T14:25:07.903761Z",
     "start_time": "2024-04-16T14:23:46.468896Z"
    }
   },
   "id": "516887d2a2e8bc8a",
   "execution_count": 8
  },
  {
   "cell_type": "code",
   "outputs": [
    {
     "name": "stdout",
     "output_type": "stream",
     "text": [
      "Confusion Matrix: $CT\n",
      "[[83  6]\n",
      " [31 21]]\n",
      "\n",
      "Accuracy (ACC): 0.74\n",
      "Matthews Correlation Coefficient (MCC): 0.41\n",
      "\n",
      "Classification Report:\n",
      "              precision    recall  f1-score   support\n",
      "\n",
      "           0       0.73      0.93      0.82        89\n",
      "           1       0.78      0.40      0.53        52\n",
      "\n",
      "    accuracy                           0.74       141\n",
      "   macro avg       0.75      0.67      0.67       141\n",
      "weighted avg       0.75      0.74      0.71       141\n"
     ]
    }
   ],
   "source": [
    "# Evaluate the model\n",
    "# Calculate and display the confusion matrix\n",
    "from ClassificationMatrix import ClassificationMatrix\n",
    "\n",
    "cm = ClassificationMatrix(y_true, y_pred, 'CT')\n",
    "cm.evaluate()"
   ],
   "metadata": {
    "collapsed": false,
    "ExecuteTime": {
     "end_time": "2024-04-16T14:25:13.524154Z",
     "start_time": "2024-04-16T14:25:13.502146Z"
    }
   },
   "id": "7f2a5b6e865520fa",
   "execution_count": 9
  }
 ],
 "metadata": {
  "kernelspec": {
   "display_name": "Python 3",
   "language": "python",
   "name": "python3"
  },
  "language_info": {
   "codemirror_mode": {
    "name": "ipython",
    "version": 2
   },
   "file_extension": ".py",
   "mimetype": "text/x-python",
   "name": "python",
   "nbconvert_exporter": "python",
   "pygments_lexer": "ipython2",
   "version": "2.7.6"
  }
 },
 "nbformat": 4,
 "nbformat_minor": 5
}
