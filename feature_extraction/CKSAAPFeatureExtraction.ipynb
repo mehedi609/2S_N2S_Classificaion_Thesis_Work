{
 "cells": [
  {
   "cell_type": "code",
   "execution_count": 6,
   "id": "initial_id",
   "metadata": {
    "collapsed": true,
    "ExecuteTime": {
     "end_time": "2024-04-16T14:20:01.399774Z",
     "start_time": "2024-04-16T14:20:01.386771Z"
    }
   },
   "outputs": [],
   "source": [
    "from collections import defaultdict\n",
    "from itertools import product\n",
    "\n",
    "class CKSAAPFeatureExtraction:\n",
    "    def __init__(self, kmax=5):\n",
    "        self.amino_acids = 'ACDEFGHIKLMNPQRSTVWY'\n",
    "        self.kmax = kmax\n",
    "\n",
    "    def calculate_cksaap_features(self, sequence):\n",
    "        \"\"\"\n",
    "        Calculate the CKSAAP features for a given protein sequence.\n",
    "\n",
    "        :param sequence: The protein sequence as a string.\n",
    "        :return: A list of CKSAAP feature values.\n",
    "        \"\"\"\n",
    "        # Generate all possible amino acid pairs\n",
    "        amino_acid_pairs = [''.join(pair) for pair in product(self.amino_acids, repeat=2)]\n",
    "\n",
    "        # Initialize a dictionary to store the counts of each k-spaced amino acid pair\n",
    "        cksaap_counts = {pair: [0] * (self.kmax + 1) for pair in amino_acid_pairs}\n",
    "\n",
    "        # Calculate the counts of each k-spaced amino acid pair\n",
    "        for k in range(self.kmax + 1):\n",
    "            for i in range(len(sequence) - k - 1):\n",
    "                pair = sequence[i] + sequence[i + k + 1]\n",
    "                if pair in cksaap_counts:\n",
    "                    cksaap_counts[pair][k] += 1\n",
    "\n",
    "        # Calculate the window size for each k\n",
    "        window_sizes = [len(sequence) - k - 1 for k in range(self.kmax + 1)]\n",
    "\n",
    "        # Calculate the CKSAAP feature values using the formula\n",
    "        cksaap_features = []\n",
    "        for pair in amino_acid_pairs:\n",
    "            for k in range(self.kmax + 1):\n",
    "                count = cksaap_counts[pair][k]\n",
    "                window_size = window_sizes[k]\n",
    "                if window_size > 0:\n",
    "                    cksaap_features.append(count / window_size)\n",
    "                else:\n",
    "                    cksaap_features.append(0)\n",
    "\n",
    "        return cksaap_features\n",
    "\n",
    "# # Example usage\n",
    "# sequence = \"ACDEFGHIKLMNPQRSTVWY\"\n",
    "# extractor = CKSAAPFeatureExtraction(kmax=5)\n",
    "# cksaap_features = extractor.calculate_cksaap_features(sequence)\n",
    "# print(cksaap_features)"
   ]
  },
  {
   "cell_type": "code",
   "outputs": [],
   "source": [
    "import pandas as pd\n",
    "from sklearn.preprocessing import LabelEncoder\n",
    "from sklearn.svm import SVC\n",
    "from sklearn.metrics import confusion_matrix, classification_report, accuracy_score, matthews_corrcoef\n",
    "from sklearn.model_selection import LeaveOneOut\n",
    "import numpy as np\n",
    "\n",
    "# Load the dataset\n",
    "data = pd.read_excel('../data/Final_2Sm_modified_with_sequences.xlsx')\n",
    "\n",
    "# Initialize the LabelEncoder\n",
    "label_encoder = LabelEncoder()\n",
    "\n",
    "# Fit the encoder to the folding_type column and transform it to numeric labels\n",
    "data['folding_type'] = label_encoder.fit_transform(data['folding_type'])\n",
    "\n",
    "# Now, when you extract labels for model training:\n",
    "labels = data['folding_type'].values\n",
    "\n",
    "# Initialize the FeatureExtraction class\n",
    "feature_extraction = CKSAAPFeatureExtraction()\n",
    "\n",
    "# Feature extraction using AAC with length\n",
    "features = np.array([feature_extraction.calculate_cksaap_features(seq) for seq in data['sequence']])"
   ],
   "metadata": {
    "collapsed": false,
    "ExecuteTime": {
     "end_time": "2024-04-16T14:20:04.456304Z",
     "start_time": "2024-04-16T14:20:04.320296Z"
    }
   },
   "id": "3a7ee549051f7e81",
   "execution_count": 7
  },
  {
   "cell_type": "code",
   "outputs": [],
   "source": [],
   "metadata": {
    "collapsed": false
   },
   "id": "c0be46a48883d70"
  },
  {
   "cell_type": "markdown",
   "source": [
    "# Support Vector Machine (SVM) Classifier"
   ],
   "metadata": {
    "collapsed": false
   },
   "id": "aae2b09794fd2f8f"
  },
  {
   "cell_type": "code",
   "outputs": [],
   "source": [
    "# SVM with Leave-One-Out Cross-Validation (LOOCV)\n",
    "loo = LeaveOneOut()\n",
    "y_true, y_pred = [], []\n",
    "for train_index, test_index in loo.split(features):\n",
    "    X_train, X_test = features[train_index], features[test_index]\n",
    "    y_train, y_test = labels[train_index], labels[test_index]\n",
    "    clf = SVC(kernel='linear')\n",
    "    clf.fit(X_train, y_train)\n",
    "    y_pred.append(clf.predict(X_test)[0])\n",
    "    y_true.append(y_test[0])"
   ],
   "metadata": {
    "collapsed": false,
    "ExecuteTime": {
     "end_time": "2024-04-16T11:56:35.885941Z",
     "start_time": "2024-04-16T11:56:34.414645Z"
    }
   },
   "id": "e3ad96bdebfd2740",
   "execution_count": 3
  },
  {
   "cell_type": "code",
   "outputs": [
    {
     "name": "stdout",
     "output_type": "stream",
     "text": [
      "Confusion Matrix: $KAAC\n",
      "[[89  0]\n",
      " [52  0]]\n",
      "\n",
      "Accuracy (ACC): 0.63\n",
      "Matthews Correlation Coefficient (MCC): 0.00\n",
      "\n",
      "Classification Report:\n",
      "              precision    recall  f1-score   support\n",
      "\n",
      "           0       0.63      1.00      0.77        89\n",
      "           1       0.00      0.00      0.00        52\n",
      "\n",
      "    accuracy                           0.63       141\n",
      "   macro avg       0.32      0.50      0.39       141\n",
      "weighted avg       0.40      0.63      0.49       141\n"
     ]
    }
   ],
   "source": [
    "# Calculate and display the confusion matrix\n",
    "from ClassificationMatrix import ClassificationMatrix\n",
    "\n",
    "cm = ClassificationMatrix(y_true, y_pred, 'KAAC')\n",
    "cm.evaluate()"
   ],
   "metadata": {
    "collapsed": false,
    "ExecuteTime": {
     "end_time": "2024-04-16T11:56:43.901610Z",
     "start_time": "2024-04-16T11:56:43.880609Z"
    }
   },
   "id": "81138d9234855df7",
   "execution_count": 4
  },
  {
   "cell_type": "markdown",
   "source": [
    "# Random Forest Classifier implementation with Hyperparameter Tuning"
   ],
   "metadata": {
    "collapsed": false
   },
   "id": "5aada7b31cc6f5c0"
  },
  {
   "cell_type": "code",
   "outputs": [
    {
     "name": "stdout",
     "output_type": "stream",
     "text": [
      "Best parameters:  {'max_depth': None, 'min_samples_leaf': 2, 'min_samples_split': 10, 'n_estimators': 200}\n",
      "Best score:  0.7304964539007092\n"
     ]
    }
   ],
   "source": [
    "from sklearn.model_selection import GridSearchCV\n",
    "from sklearn.ensemble import RandomForestClassifier\n",
    "\n",
    "# Define the parameter grid\n",
    "rf_param_grid = {\n",
    "    'n_estimators': [100, 200, 300],\n",
    "    'max_depth': [None, 10, 20],\n",
    "    'min_samples_split': [2, 5, 10],\n",
    "    'min_samples_leaf': [1, 2, 4]\n",
    "}\n",
    "\n",
    "# Initialize the Random Forest classifier\n",
    "rf = RandomForestClassifier(random_state=42)\n",
    "\n",
    "# Grid search with cross validation setup\n",
    "grid_search = GridSearchCV(estimator=rf, param_grid=rf_param_grid, cv=3, scoring='accuracy')\n",
    "\n",
    "# Fit the grid search to find the best parameters\n",
    "grid_search.fit(features, labels)\n",
    "\n",
    "# Get the best parameters and best score\n",
    "best_params = grid_search.best_params_\n",
    "best_score = grid_search.best_score_\n",
    "\n",
    "print(\"Best parameters: \", best_params)\n",
    "print(\"Best score: \", best_score)\n",
    "\n",
    "# Using the best parameters with LOOCV\n",
    "best_rf = RandomForestClassifier(**best_params, random_state=42)\n",
    "loo = LeaveOneOut()\n",
    "y_true, y_pred = [], []\n",
    "\n",
    "for train_index, test_index in loo.split(features):\n",
    "    X_train, X_test = features[train_index], features[test_index]\n",
    "    y_train, y_test = labels[train_index], labels[test_index]\n",
    "    best_rf.fit(X_train, y_train)\n",
    "    y_pred.append(best_rf.predict(X_test)[0])\n",
    "    y_true.append(y_test[0])"
   ],
   "metadata": {
    "collapsed": false,
    "ExecuteTime": {
     "end_time": "2024-04-16T14:21:58.593973Z",
     "start_time": "2024-04-16T14:20:08.057065Z"
    }
   },
   "id": "3042be4bd60970f4",
   "execution_count": 8
  },
  {
   "cell_type": "code",
   "outputs": [
    {
     "name": "stdout",
     "output_type": "stream",
     "text": [
      "Confusion Matrix: $CKSAAP\n",
      "[[84  5]\n",
      " [33 19]]\n",
      "\n",
      "Accuracy (ACC): 0.73\n",
      "Matthews Correlation Coefficient (MCC): 0.40\n",
      "\n",
      "Classification Report:\n",
      "              precision    recall  f1-score   support\n",
      "\n",
      "           0       0.72      0.94      0.82        89\n",
      "           1       0.79      0.37      0.50        52\n",
      "\n",
      "    accuracy                           0.73       141\n",
      "   macro avg       0.75      0.65      0.66       141\n",
      "weighted avg       0.75      0.73      0.70       141\n"
     ]
    }
   ],
   "source": [
    "# Calculate and display the confusion matrix\n",
    "from ClassificationMatrix import ClassificationMatrix\n",
    "\n",
    "cm = ClassificationMatrix(y_true, y_pred, 'CKSAAP')\n",
    "cm.evaluate()"
   ],
   "metadata": {
    "collapsed": false,
    "ExecuteTime": {
     "end_time": "2024-04-16T14:22:01.946881Z",
     "start_time": "2024-04-16T14:22:01.929781Z"
    }
   },
   "id": "3be78b5b19d13d53",
   "execution_count": 9
  }
 ],
 "metadata": {
  "kernelspec": {
   "display_name": "Python 3",
   "language": "python",
   "name": "python3"
  },
  "language_info": {
   "codemirror_mode": {
    "name": "ipython",
    "version": 2
   },
   "file_extension": ".py",
   "mimetype": "text/x-python",
   "name": "python",
   "nbconvert_exporter": "python",
   "pygments_lexer": "ipython2",
   "version": "2.7.6"
  }
 },
 "nbformat": 4,
 "nbformat_minor": 5
}
