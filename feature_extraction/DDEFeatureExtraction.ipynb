{
 "cells": [
  {
   "cell_type": "code",
   "execution_count": null,
   "id": "initial_id",
   "metadata": {
    "collapsed": true
   },
   "outputs": [],
   "source": []
  },
  {
   "cell_type": "code",
   "outputs": [],
   "source": [
    "from collections import Counter\n",
    "from itertools import product\n",
    "import math\n",
    "\n",
    "class DDEFeatureExtraction:\n",
    "    def __init__(self):\n",
    "        self.amino_acids = 'ACDEFGHIKLMNPQRSTVWY'\n",
    "        self.codons = {\n",
    "            'A': 4, 'R': 6, 'N': 2, 'D': 2, 'C': 2,\n",
    "            'Q': 2, 'E': 2, 'G': 4, 'H': 2, 'I': 3,\n",
    "            'L': 6, 'K': 2, 'M': 1, 'F': 2, 'P': 4,\n",
    "            'S': 6, 'T': 4, 'W': 1, 'Y': 2, 'V': 4\n",
    "        }\n",
    "        self.total_codons = sum(self.codons.values())\n",
    "\n",
    "    def calculate_dde_features(self, sequence):\n",
    "        \"\"\"\n",
    "        Calculate the DDE features for a given protein sequence.\n",
    "    \n",
    "        :param sequence: The protein sequence as a string.\n",
    "        :return: A list of DDE feature values.\n",
    "        \"\"\"\n",
    "        dpc_features = self.calculate_dpc_features(sequence)\n",
    "        dde_features = []\n",
    "    \n",
    "        for x, y in product(self.amino_acids, repeat=2):\n",
    "            dipeptide = x + y\n",
    "            dpc = dpc_features.get(dipeptide, 0)  # Use get() to handle missing dipeptides\n",
    "            tm = self.calculate_tm(x, y)\n",
    "            tv = self.calculate_tv(tm, len(sequence))\n",
    "            dde = self.calculate_dde(dpc, tm, tv)\n",
    "            dde_features.append(dde)\n",
    "    \n",
    "        return dde_features\n",
    "\n",
    "    def calculate_dpc_features(self, sequence):\n",
    "        \"\"\"\n",
    "        Calculate the dipeptide composition (DPC) features.\n",
    "\n",
    "        :param sequence: The protein sequence as a string.\n",
    "        :return: A dictionary of DPC feature values.\n",
    "        \"\"\"\n",
    "        possible_dipeptides = [''.join(dp) for dp in product(self.amino_acids, repeat=2)]\n",
    "        dipeptide_counts = Counter(sequence[i:i + 2] for i in range(len(sequence) - 1))\n",
    "        total_dipeptides = sum(dipeptide_counts.values())\n",
    "        dpc = {dp: dipeptide_counts[dp] / total_dipeptides for dp in possible_dipeptides}\n",
    "        return dpc\n",
    "\n",
    "    def calculate_tm(self, x, y):\n",
    "        \"\"\"\n",
    "        Calculate the theoretical mean (Tm) for amino acids x and y.\n",
    "\n",
    "        :param x: The first amino acid.\n",
    "        :param y: The second amino acid.\n",
    "        :return: The theoretical mean value.\n",
    "        \"\"\"\n",
    "        cx = self.codons[x]\n",
    "        cy = self.codons[y]\n",
    "        tm = (cx / self.total_codons) * (cy / self.total_codons)\n",
    "        return tm\n",
    "\n",
    "    def calculate_tv(self, tm, sequence_length):\n",
    "        \"\"\"\n",
    "        Calculate the theoretical variance (Tv) based on Tm and sequence length.\n",
    "\n",
    "        :param tm: The theoretical mean value.\n",
    "        :param sequence_length: The length of the protein sequence.\n",
    "        :return: The theoretical variance value.\n",
    "        \"\"\"\n",
    "        tv = (tm * (1 - tm)) / (sequence_length - 1)\n",
    "        return tv\n",
    "\n",
    "    def calculate_dde(self, dpc, tm, tv):\n",
    "        \"\"\"\n",
    "        Calculate the deviation from expected dipeptide composition (DDE).\n",
    "\n",
    "        :param dpc: The dipeptide composition value.\n",
    "        :param tm: The theoretical mean value.\n",
    "        :param tv: The theoretical variance value.\n",
    "        :return: The DDE value.\n",
    "        \"\"\"\n",
    "        if tv == 0:\n",
    "            return 0\n",
    "        else:\n",
    "            dde = (dpc - tm) / math.sqrt(tv)\n",
    "            return dde"
   ],
   "metadata": {
    "collapsed": false,
    "ExecuteTime": {
     "end_time": "2024-04-16T14:03:58.684607Z",
     "start_time": "2024-04-16T14:03:58.675605Z"
    }
   },
   "id": "dbb388a785e99117",
   "execution_count": 12
  },
  {
   "cell_type": "code",
   "outputs": [],
   "source": [
    "import pandas as pd\n",
    "from sklearn.preprocessing import LabelEncoder\n",
    "from sklearn.svm import SVC\n",
    "from sklearn.metrics import confusion_matrix, classification_report, accuracy_score, matthews_corrcoef\n",
    "from sklearn.model_selection import LeaveOneOut\n",
    "import numpy as np\n",
    "\n",
    "# Load the dataset\n",
    "data = pd.read_excel('../data/Final_2Sm_modified_with_sequences.xlsx')\n",
    "\n",
    "# Initialize the LabelEncoder\n",
    "label_encoder = LabelEncoder()\n",
    "\n",
    "# Fit the encoder to the folding_type column and transform it to numeric labels\n",
    "data['folding_type'] = label_encoder.fit_transform(data['folding_type'])\n",
    "\n",
    "# Now, when you extract labels for model training:\n",
    "labels = data['folding_type'].values\n",
    "\n",
    "# Initialize the FeatureExtraction class\n",
    "feature_extraction = DDEFeatureExtraction()\n",
    "\n",
    "# Feature extraction using AAC with length\n",
    "features = np.array([feature_extraction.calculate_dde_features(seq) for seq in data['sequence']])\n",
    "\n",
    "# SVM with Leave-One-Out Cross-Validation (LOOCV)\n",
    "loo = LeaveOneOut()\n",
    "y_true, y_pred = [], []\n",
    "for train_index, test_index in loo.split(features):\n",
    "    X_train, X_test = features[train_index], features[test_index]\n",
    "    y_train, y_test = labels[train_index], labels[test_index]\n",
    "    clf = SVC(kernel='linear')\n",
    "    clf.fit(X_train, y_train)\n",
    "    y_pred.append(clf.predict(X_test)[0])\n",
    "    y_true.append(y_test[0])"
   ],
   "metadata": {
    "collapsed": false,
    "ExecuteTime": {
     "end_time": "2024-04-16T14:04:02.300880Z",
     "start_time": "2024-04-16T14:04:01.862225Z"
    }
   },
   "id": "bce17ee349e3e9e9",
   "execution_count": 13
  },
  {
   "cell_type": "code",
   "outputs": [
    {
     "name": "stdout",
     "output_type": "stream",
     "text": [
      "Confusion Matrix DDE:\n",
      "[[66 23]\n",
      " [25 27]]\n",
      "\n",
      "Accuracy (ACC): 0.66\n",
      "Matthews Correlation Coefficient (MCC): 0.26\n",
      "\n",
      "Classification Report:\n",
      "              precision    recall  f1-score   support\n",
      "\n",
      "           0       0.73      0.74      0.73        89\n",
      "           1       0.54      0.52      0.53        52\n",
      "\n",
      "    accuracy                           0.66       141\n",
      "   macro avg       0.63      0.63      0.63       141\n",
      "weighted avg       0.66      0.66      0.66       141\n"
     ]
    }
   ],
   "source": [
    "# Calculate and display the confusion matrix\n",
    "conf_matrix = confusion_matrix(y_true, y_pred)\n",
    "print(\"Confusion Matrix DDE:\")\n",
    "print(conf_matrix)\n",
    "\n",
    "# Calculate and display the accuracy\n",
    "accuracy = accuracy_score(y_true, y_pred)\n",
    "print(f\"\\nAccuracy (ACC): {accuracy:.2f}\")\n",
    "\n",
    "# Calculate and display the Matthews Correlation Coefficient (MCC)\n",
    "mcc = matthews_corrcoef(y_true, y_pred)\n",
    "print(f\"Matthews Correlation Coefficient (MCC): {mcc:.2f}\")\n",
    "\n",
    "# Generate classification report\n",
    "report = classification_report(y_true, y_pred, zero_division=0)\n",
    "print(\"\\nClassification Report:\")\n",
    "print(report)"
   ],
   "metadata": {
    "collapsed": false,
    "ExecuteTime": {
     "end_time": "2024-04-16T09:30:41.576727Z",
     "start_time": "2024-04-16T09:30:41.553727Z"
    }
   },
   "id": "8e3b3eeb9935ab42",
   "execution_count": 10
  },
  {
   "cell_type": "code",
   "outputs": [],
   "source": [],
   "metadata": {
    "collapsed": false
   },
   "id": "2df5843b4dc9d5f1"
  },
  {
   "cell_type": "markdown",
   "source": [
    "# Random Forest Classifier implementation with hyperparameter tuning"
   ],
   "metadata": {
    "collapsed": false
   },
   "id": "ef608425dd5842c7"
  },
  {
   "cell_type": "code",
   "outputs": [
    {
     "name": "stdout",
     "output_type": "stream",
     "text": [
      "Best parameters:  {'max_depth': None, 'min_samples_leaf': 1, 'min_samples_split': 10, 'n_estimators': 200}\n",
      "Best score:  0.8085106382978723\n"
     ]
    }
   ],
   "source": [
    "from sklearn.model_selection import GridSearchCV\n",
    "from sklearn.ensemble import RandomForestClassifier\n",
    "\n",
    "# Define the parameter grid\n",
    "rf_param_grid = {\n",
    "    'n_estimators': [100, 200, 300],\n",
    "    'max_depth': [None, 10, 20],\n",
    "    'min_samples_split': [2, 5, 10],\n",
    "    'min_samples_leaf': [1, 2, 4]\n",
    "}\n",
    "\n",
    "# Initialize the Random Forest classifier\n",
    "rf = RandomForestClassifier(random_state=42)\n",
    "\n",
    "# Grid search with cross validation setup\n",
    "grid_search = GridSearchCV(estimator=rf, param_grid=rf_param_grid, cv=3, scoring='accuracy')\n",
    "\n",
    "# Fit the grid search to find the best parameters\n",
    "grid_search.fit(features, labels)\n",
    "\n",
    "# Get the best parameters and best score\n",
    "best_params = grid_search.best_params_\n",
    "best_score = grid_search.best_score_\n",
    "\n",
    "print(\"Best parameters: \", best_params)\n",
    "print(\"Best score: \", best_score)\n",
    "\n",
    "# Using the best parameters with LOOCV\n",
    "best_rf = RandomForestClassifier(**best_params, random_state=42)\n",
    "loo = LeaveOneOut()\n",
    "y_true, y_pred = [], []\n",
    "\n",
    "for train_index, test_index in loo.split(features):\n",
    "    X_train, X_test = features[train_index], features[test_index]\n",
    "    y_train, y_test = labels[train_index], labels[test_index]\n",
    "    best_rf.fit(X_train, y_train)\n",
    "    y_pred.append(best_rf.predict(X_test)[0])\n",
    "    y_true.append(y_test[0])"
   ],
   "metadata": {
    "collapsed": false,
    "ExecuteTime": {
     "end_time": "2024-04-16T14:12:56.271494Z",
     "start_time": "2024-04-16T14:10:34.988342Z"
    }
   },
   "id": "92b5820781690bd8",
   "execution_count": 16
  },
  {
   "cell_type": "code",
   "outputs": [
    {
     "name": "stdout",
     "output_type": "stream",
     "text": [
      "Confusion Matrix: $GDPC\n",
      "[[83  6]\n",
      " [21 31]]\n",
      "\n",
      "Accuracy (ACC): 0.81\n",
      "Matthews Correlation Coefficient (MCC): 0.58\n",
      "\n",
      "Classification Report:\n",
      "              precision    recall  f1-score   support\n",
      "\n",
      "           0       0.80      0.93      0.86        89\n",
      "           1       0.84      0.60      0.70        52\n",
      "\n",
      "    accuracy                           0.81       141\n",
      "   macro avg       0.82      0.76      0.78       141\n",
      "weighted avg       0.81      0.81      0.80       141\n"
     ]
    }
   ],
   "source": [
    "# Evaluate the model\n",
    "# Calculate and display the confusion matrix\n",
    "from ClassificationMatrix import ClassificationMatrix\n",
    "\n",
    "cm = ClassificationMatrix(y_true, y_pred, 'DDE')\n",
    "cm.evaluate()"
   ],
   "metadata": {
    "collapsed": false,
    "ExecuteTime": {
     "end_time": "2024-04-16T14:13:01.433645Z",
     "start_time": "2024-04-16T14:13:01.413644Z"
    }
   },
   "id": "e447b414c9ff515b",
   "execution_count": 17
  }
 ],
 "metadata": {
  "kernelspec": {
   "display_name": "Python 3",
   "language": "python",
   "name": "python3"
  },
  "language_info": {
   "codemirror_mode": {
    "name": "ipython",
    "version": 2
   },
   "file_extension": ".py",
   "mimetype": "text/x-python",
   "name": "python",
   "nbconvert_exporter": "python",
   "pygments_lexer": "ipython2",
   "version": "2.7.6"
  }
 },
 "nbformat": 4,
 "nbformat_minor": 5
}
