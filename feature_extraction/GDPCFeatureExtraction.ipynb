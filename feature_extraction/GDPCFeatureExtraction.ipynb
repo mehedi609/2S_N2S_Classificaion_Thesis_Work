{
 "cells": [
  {
   "cell_type": "code",
   "execution_count": 6,
   "id": "initial_id",
   "metadata": {
    "collapsed": true,
    "ExecuteTime": {
     "end_time": "2024-04-16T14:14:04.831521Z",
     "start_time": "2024-04-16T14:14:04.814015Z"
    }
   },
   "outputs": [],
   "source": [
    "from collections import Counter\n",
    "from itertools import product\n",
    "\n",
    "class GDPCFeatureExtraction:\n",
    "    def __init__(self):\n",
    "        self.amino_acid_groups = {\n",
    "            'g1': 'FYW',  # Aromatic\n",
    "            'g2': 'RKH',  # Positively charged\n",
    "            'g3': 'GAVLMI',  # Aliphatic\n",
    "            'g4': 'STCPNQ',  # Uncharged\n",
    "            'g5': 'DE'  # Negatively charged\n",
    "        }\n",
    "        self.group_names = list(self.amino_acid_groups.keys())\n",
    "\n",
    "    def calculate_gdpc_features(self, sequence):\n",
    "        \"\"\"\n",
    "        Calculate the GDPC features for a given protein sequence.\n",
    "\n",
    "        :param sequence: The protein sequence as a string.\n",
    "        :return: A list of GDPC feature values.\n",
    "        \"\"\"\n",
    "        # Create a mapping of amino acids to their corresponding groups\n",
    "        amino_acid_to_group = {}\n",
    "        for group, amino_acids in self.amino_acid_groups.items():\n",
    "            for amino_acid in amino_acids:\n",
    "                amino_acid_to_group[amino_acid] = group\n",
    "\n",
    "        # Generate all possible group dipeptide combinations\n",
    "        group_dipeptides = [''.join(group) for group in product(self.group_names, repeat=2)]\n",
    "\n",
    "        # Initialize a dictionary to store the counts of each group dipeptide\n",
    "        group_dipeptide_counts = {group_dipeptide: 0 for group_dipeptide in group_dipeptides}\n",
    "\n",
    "        # Count the occurrences of each group dipeptide in the sequence\n",
    "        for i in range(len(sequence) - 1):\n",
    "            dipeptide = sequence[i:i+2]\n",
    "            group_dipeptide = ''.join([amino_acid_to_group.get(amino_acid, '') for amino_acid in dipeptide])\n",
    "            if group_dipeptide in group_dipeptide_counts:\n",
    "                group_dipeptide_counts[group_dipeptide] += 1\n",
    "\n",
    "        # Calculate the sequence length\n",
    "        sequence_length = len(sequence)\n",
    "\n",
    "        # Calculate the GDPC feature values using the formula\n",
    "        gdpc_features = [group_dipeptide_counts[group_dipeptide] / (sequence_length - 1) for group_dipeptide in group_dipeptides]\n",
    "\n",
    "        return gdpc_features"
   ]
  },
  {
   "cell_type": "code",
   "outputs": [],
   "source": [
    "import pandas as pd\n",
    "from sklearn.preprocessing import LabelEncoder\n",
    "from sklearn.svm import SVC\n",
    "from sklearn.metrics import confusion_matrix, classification_report, accuracy_score, matthews_corrcoef\n",
    "from sklearn.model_selection import LeaveOneOut\n",
    "import numpy as np\n",
    "\n",
    "# Load the dataset\n",
    "data = pd.read_excel('../data/Final_2Sm_modified_with_sequences.xlsx')\n",
    "\n",
    "# Initialize the LabelEncoder\n",
    "label_encoder = LabelEncoder()\n",
    "\n",
    "# Fit the encoder to the folding_type column and transform it to numeric labels\n",
    "data['folding_type'] = label_encoder.fit_transform(data['folding_type'])\n",
    "\n",
    "# Now, when you extract labels for model training:\n",
    "labels = data['folding_type'].values\n",
    "\n",
    "# Initialize the FeatureExtraction class\n",
    "feature_extraction = GDPCFeatureExtraction()\n",
    "\n",
    "# Feature extraction using AAC with length\n",
    "features = np.array([feature_extraction.calculate_gdpc_features(seq) for seq in data['sequence']])\n",
    "\n",
    "# SVM with Leave-One-Out Cross-Validation (LOOCV)\n",
    "loo = LeaveOneOut()\n",
    "y_true, y_pred = [], []\n",
    "for train_index, test_index in loo.split(features):\n",
    "    X_train, X_test = features[train_index], features[test_index]\n",
    "    y_train, y_test = labels[train_index], labels[test_index]\n",
    "    clf = SVC(kernel='linear')\n",
    "    clf.fit(X_train, y_train)\n",
    "    y_pred.append(clf.predict(X_test)[0])\n",
    "    y_true.append(y_test[0])"
   ],
   "metadata": {
    "collapsed": false,
    "ExecuteTime": {
     "end_time": "2024-04-16T14:14:06.238265Z",
     "start_time": "2024-04-16T14:14:06.058247Z"
    }
   },
   "id": "965326a7547f6ecd",
   "execution_count": 7
  },
  {
   "cell_type": "code",
   "outputs": [
    {
     "name": "stdout",
     "output_type": "stream",
     "text": [
      "Confusion Matrix: $DPC\n",
      "[[89  0]\n",
      " [52  0]]\n",
      "\n",
      "Accuracy (ACC): 0.63\n",
      "Matthews Correlation Coefficient (MCC): 0.00\n",
      "\n",
      "Classification Report:\n",
      "              precision    recall  f1-score   support\n",
      "\n",
      "           0       0.63      1.00      0.77        89\n",
      "           1       0.00      0.00      0.00        52\n",
      "\n",
      "    accuracy                           0.63       141\n",
      "   macro avg       0.32      0.50      0.39       141\n",
      "weighted avg       0.40      0.63      0.49       141\n"
     ]
    }
   ],
   "source": [
    "# Calculate and display the confusion matrix\n",
    "from ClassificationMatrix import ClassificationMatrix\n",
    "\n",
    "cm = ClassificationMatrix(y_true, y_pred, 'DPC')\n",
    "cm.evaluate()"
   ],
   "metadata": {
    "collapsed": false,
    "ExecuteTime": {
     "end_time": "2024-04-16T09:59:08.924736Z",
     "start_time": "2024-04-16T09:59:08.911238Z"
    }
   },
   "id": "8439667517031867",
   "execution_count": 3
  },
  {
   "cell_type": "code",
   "outputs": [],
   "source": [],
   "metadata": {
    "collapsed": false
   },
   "id": "ebe979aa7fc96ef4"
  },
  {
   "cell_type": "markdown",
   "source": [
    "# Random Forest classifier implementation with hyperparameter tuning"
   ],
   "metadata": {
    "collapsed": false
   },
   "id": "27c7d805ee60485b"
  },
  {
   "cell_type": "code",
   "outputs": [
    {
     "name": "stdout",
     "output_type": "stream",
     "text": [
      "Best parameters:  {'max_depth': None, 'min_samples_leaf': 4, 'min_samples_split': 2, 'n_estimators': 100}\n",
      "Best score:  0.6170212765957447\n"
     ]
    }
   ],
   "source": [
    "from sklearn.model_selection import GridSearchCV\n",
    "from sklearn.ensemble import RandomForestClassifier\n",
    "\n",
    "# Define the parameter grid\n",
    "rf_param_grid = {\n",
    "    'n_estimators': [100, 200, 300],\n",
    "    'max_depth': [None, 10, 20],\n",
    "    'min_samples_split': [2, 5, 10],\n",
    "    'min_samples_leaf': [1, 2, 4]\n",
    "}\n",
    "\n",
    "# Initialize the Random Forest classifier\n",
    "rf = RandomForestClassifier(random_state=42)\n",
    "\n",
    "# Grid search with cross validation setup\n",
    "grid_search = GridSearchCV(estimator=rf, param_grid=rf_param_grid, cv=3, scoring='accuracy')\n",
    "\n",
    "# Fit the grid search to find the best parameters\n",
    "grid_search.fit(features, labels)\n",
    "\n",
    "# Get the best parameters and best score\n",
    "best_params = grid_search.best_params_\n",
    "best_score = grid_search.best_score_\n",
    "\n",
    "print(\"Best parameters: \", best_params)\n",
    "print(\"Best score: \", best_score)\n",
    "\n",
    "# Using the best parameters with LOOCV\n",
    "best_rf = RandomForestClassifier(**best_params, random_state=42)\n",
    "loo = LeaveOneOut()\n",
    "y_true, y_pred = [], []\n",
    "\n",
    "for train_index, test_index in loo.split(features):\n",
    "    X_train, X_test = features[train_index], features[test_index]\n",
    "    y_train, y_test = labels[train_index], labels[test_index]\n",
    "    best_rf.fit(X_train, y_train)\n",
    "    y_pred.append(best_rf.predict(X_test)[0])\n",
    "    y_true.append(y_test[0])"
   ],
   "metadata": {
    "collapsed": false,
    "ExecuteTime": {
     "end_time": "2024-04-16T14:15:10.598044Z",
     "start_time": "2024-04-16T14:14:10.091619Z"
    }
   },
   "id": "88556f3e48658996",
   "execution_count": 8
  },
  {
   "cell_type": "code",
   "outputs": [
    {
     "name": "stdout",
     "output_type": "stream",
     "text": [
      "Confusion Matrix: $DDE\n",
      "[[79 10]\n",
      " [39 13]]\n",
      "\n",
      "Accuracy (ACC): 0.65\n",
      "Matthews Correlation Coefficient (MCC): 0.18\n",
      "\n",
      "Classification Report:\n",
      "              precision    recall  f1-score   support\n",
      "\n",
      "           0       0.67      0.89      0.76        89\n",
      "           1       0.57      0.25      0.35        52\n",
      "\n",
      "    accuracy                           0.65       141\n",
      "   macro avg       0.62      0.57      0.55       141\n",
      "weighted avg       0.63      0.65      0.61       141\n"
     ]
    }
   ],
   "source": [
    "# Evaluate the model\n",
    "# Calculate and display the confusion matrix\n",
    "from ClassificationMatrix import ClassificationMatrix\n",
    "\n",
    "cm = ClassificationMatrix(y_true, y_pred, 'DDE')\n",
    "cm.evaluate()"
   ],
   "metadata": {
    "collapsed": false,
    "ExecuteTime": {
     "end_time": "2024-04-16T14:15:21.408697Z",
     "start_time": "2024-04-16T14:15:21.389197Z"
    }
   },
   "id": "ee45ded697b7e5ec",
   "execution_count": 9
  }
 ],
 "metadata": {
  "kernelspec": {
   "display_name": "Python 3",
   "language": "python",
   "name": "python3"
  },
  "language_info": {
   "codemirror_mode": {
    "name": "ipython",
    "version": 2
   },
   "file_extension": ".py",
   "mimetype": "text/x-python",
   "name": "python",
   "nbconvert_exporter": "python",
   "pygments_lexer": "ipython2",
   "version": "2.7.6"
  }
 },
 "nbformat": 4,
 "nbformat_minor": 5
}
