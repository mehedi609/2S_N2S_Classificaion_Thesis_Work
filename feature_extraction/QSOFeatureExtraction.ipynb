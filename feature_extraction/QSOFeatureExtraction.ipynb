{
 "cells": [
  {
   "cell_type": "code",
   "id": "initial_id",
   "metadata": {
    "collapsed": true,
    "ExecuteTime": {
     "end_time": "2024-04-22T15:44:03.357788Z",
     "start_time": "2024-04-22T15:44:03.338282Z"
    }
   },
   "source": [
    "import numpy as np\n",
    "\n",
    "class QSOFeatureExtraction:\n",
    "    def __init__(self, weight=0.1):\n",
    "        self.amino_acids = 'ACDEFGHIKLMNPQRSTVWY'\n",
    "        self.weight = weight\n",
    "        self.schneider_wrede_distance_matrix = np.array([\n",
    "            [0.0, 0.94, 0.90, 0.82, 0.96, 0.65, 0.97, 0.58, 0.89, 1.36, 1.08, 0.69, 1.02, 0.54, 0.88, 0.81, 1.00, 1.37, 0.56, 0.77],\n",
    "            [0.94, 0.0, 0.22, 1.34, 0.16, 1.05, 0.16, 0.92, 0.28, 0.64, 0.50, 1.17, 0.26, 0.82, 0.30, 0.24, 0.43, 0.73, 0.96, 0.41],\n",
    "            [0.90, 0.22, 0.0, 1.24, 0.18, 1.03, 0.22, 0.83, 0.32, 0.81, 0.61, 1.07, 0.31, 0.71, 0.35, 0.13, 0.46, 0.90, 0.87, 0.37],\n",
    "            [0.82, 1.34, 1.24, 0.0, 1.41, 0.96, 1.43, 1.17, 1.17, 1.84, 1.59, 0.97, 1.45, 0.94, 1.19, 1.20, 1.39, 1.85, 0.99, 1.26],\n",
    "            [0.96, 0.16, 0.18, 1.41, 0.0, 1.08, 0.02, 0.94, 0.30, 0.54, 0.45, 1.20, 0.21, 0.85, 0.28, 0.28, 0.41, 0.63, 0.99, 0.43],\n",
    "            [0.65, 1.05, 1.03, 0.96, 1.08, 0.0, 1.12, 0.80, 0.93, 1.55, 1.25, 0.38, 1.10, 0.28, 0.95, 0.92, 0.97, 1.55, 0.44, 0.87],\n",
    "            [0.97, 0.16, 0.22, 1.43, 0.02, 1.12, 0.0, 0.95, 0.29, 0.57, 0.48, 1.23, 0.23, 0.89, 0.31, 0.29, 0.43, 0.66, 1.02, 0.46],\n",
    "            [0.58, 0.92, 0.83, 1.17, 0.94, 0.80, 0.95, 0.0, 0.84, 1.22, 0.95, 0.94, 0.89, 0.64, 0.81, 0.75, 0.85, 1.23, 0.71, 0.75],\n",
    "            [0.89, 0.28, 0.32, 1.17, 0.30, 0.93, 0.29, 0.84, 0.0, 0.71, 0.53, 1.08, 0.20, 0.76, 0.18, 0.28, 0.27, 0.80, 0.90, 0.27],\n",
    "            [1.36, 0.64, 0.81, 1.84, 0.54, 1.55, 0.57, 1.22, 0.71, 0.0, 0.55, 1.66, 0.65, 1.33, 0.73, 0.78, 0.80, 0.39, 1.48, 0.83],\n",
    "            [1.08, 0.50, 0.61, 1.59, 0.45, 1.25, 0.48, 0.95, 0.53, 0.55, 0.0, 1.34, 0.38, 1.01, 0.44, 0.57, 0.50, 0.52, 1.14, 0.55],\n",
    "            [0.69, 1.17, 1.07, 0.97, 1.20, 0.38, 1.23, 0.94, 1.08, 1.66, 1.34, 0.0, 1.17, 0.50, 1.06, 0.99, 1.13, 1.66, 0.65, 1.03],\n",
    "            [1.02, 0.26, 0.31, 1.45, 0.21, 1.10, 0.23, 0.89, 0.20, 0.65, 0.38, 1.17, 0.0, 0.88, 0.18, 0.31, 0.20, 0.73, 1.00, 0.29],\n",
    "            [0.54, 0.82, 0.71, 0.94, 0.85, 0.28, 0.89, 0.64, 0.76, 1.33, 1.01, 0.50, 0.88, 0.0, 0.76, 0.65, 0.81, 1.32, 0.34, 0.65],\n",
    "            [0.88, 0.30, 0.35, 1.19, 0.28, 0.95, 0.31, 0.81, 0.18, 0.73, 0.44, 1.06, 0.18, 0.76, 0.0, 0.31, 0.17, 0.81, 0.87, 0.21],\n",
    "            [0.81, 0.24, 0.13, 1.20, 0.28, 0.92, 0.29, 0.75, 0.28, 0.78, 0.57, 0.99, 0.31, 0.65, 0.31, 0.0, 0.40, 0.87, 0.79, 0.33],\n",
    "            [1.00, 0.43, 0.46, 1.39, 0.41, 0.97, 0.43, 0.85, 0.27, 0.80, 0.50, 1.13, 0.20, 0.81, 0.17, 0.40, 0.0, 0.88, 0.99, 0.21],\n",
    "            [1.37, 0.73, 0.90, 1.85, 0.63, 1.55, 0.66, 1.23, 0.80, 0.39, 0.52, 1.66, 0.73, 1.32, 0.81, 0.87, 0.88, 0.0, 1.49, 0.90],\n",
    "            [0.56, 0.96, 0.87, 0.99, 0.99, 0.44, 1.02, 0.71, 0.90, 1.48, 1.14, 0.65, 1.00, 0.34, 0.87, 0.79, 0.99, 1.49, 0.0, 0.81],\n",
    "            [0.77, 0.41, 0.37, 1.26, 0.43, 0.87, 0.46, 0.75, 0.27, 0.83, 0.55, 1.03, 0.29, 0.65, 0.21, 0.33, 0.21, 0.90, 0.81, 0.0]\n",
    "        ])\n",
    "\n",
    "    def calculate_qso_features(self, sequence):\n",
    "        \"\"\"\n",
    "        Calculate the QSO features for a given protein sequence.\n",
    "\n",
    "        :param sequence: The protein sequence as a string.\n",
    "        :return: A list of QSO feature values.\n",
    "        \"\"\"\n",
    "        sequence_length = len(sequence)\n",
    "        aa_counts = {aa: sequence.count(aa) for aa in self.amino_acids}\n",
    "        aa_frequencies = [aa_counts.get(aa, 0) / sequence_length for aa in self.amino_acids]\n",
    "\n",
    "        tau_values = self._calculate_tau_values(sequence)\n",
    "\n",
    "        denominator = sum(aa_frequencies) + self.weight * sum(tau_values)\n",
    "\n",
    "        qso_features = []\n",
    "        for i in range(20):\n",
    "            qso_features.append(aa_frequencies[i] / denominator)\n",
    "        for i in range(30):\n",
    "            qso_features.append((self.weight * tau_values[i] - 20) / denominator)\n",
    "\n",
    "        return qso_features\n",
    "\n",
    "    def _calculate_tau_values(self, sequence):\n",
    "        \"\"\"\n",
    "        Calculate the tau values for a given protein sequence.\n",
    "\n",
    "        :param sequence: The protein sequence as a string.\n",
    "        :return: A list of tau values.\n",
    "        \"\"\"\n",
    "        tau_values = []\n",
    "        sequence_length = len(sequence)\n",
    "\n",
    "        for c in range(1, 31):\n",
    "            tau_c = 0\n",
    "            for i in range(sequence_length - c):\n",
    "                aa1 = sequence[i]\n",
    "                aa2 = sequence[i + c]\n",
    "                if aa1 in self.amino_acids and aa2 in self.amino_acids:\n",
    "                    dist = self.schneider_wrede_distance_matrix[self.amino_acids.index(aa1)][self.amino_acids.index(aa2)]\n",
    "                    tau_c += dist ** 2\n",
    "            tau_values.append(tau_c)\n",
    "\n",
    "        return tau_values\n",
    "\n",
    "# Example usage\n",
    "sequence = \"RKRQAWLWEEDKNLRSGVRKYGEGNWSKILLHYKFNNRTSVMLKDRWRTMKKL\"\n",
    "extractor = QSOFeatureExtraction(weight=0.1)\n",
    "qso_features = extractor.calculate_qso_features(sequence)\n",
    "print(qso_features)\n",
    "len(qso_features)"
   ],
   "outputs": [
    {
     "name": "stdout",
     "output_type": "stream",
     "text": [
      "[0.00021318561378112308, 0.0, 0.00042637122756224616, 0.0006395568413433692, 0.00021318561378112308, 0.0006395568413433692, 0.00021318561378112308, 0.00021318561378112308, 0.0017054849102489846, 0.0012791136826867384, 0.00042637122756224616, 0.0008527424551244923, 0.0, 0.00021318561378112308, 0.0014922992964678616, 0.0006395568413433692, 0.00042637122756224616, 0.00042637122756224616, 0.0008527424551244923, 0.00042637122756224616, -0.19099362881149337, -0.18468673069039965, -0.18269225988953353, -0.18426788278314774, -0.1769167460974945, -0.17089152799603366, -0.1833819409323891, -0.18131515757132843, -0.18584203682788303, -0.1886250534999957, -0.19765858709392545, -0.19811325231614874, -0.19967972315136331, -0.19654915423681552, -0.19273794334943645, -0.1922872327203488, -0.1911557671300546, -0.19457807202963734, -0.19516990513947965, -0.19794727239282714, -0.19558287765121574, -0.19308978915013308, -0.20236534384396399, -0.20206535970753187, -0.2008759310807067, -0.19804828400034893, -0.20298124347774607, -0.2033554609767529, -0.20282520653145125, -0.2039219846905271]\n"
     ]
    },
    {
     "data": {
      "text/plain": [
       "50"
      ]
     },
     "execution_count": 2,
     "metadata": {},
     "output_type": "execute_result"
    }
   ],
   "execution_count": 2
  },
  {
   "cell_type": "code",
   "outputs": [],
   "source": [
    "import pandas as pd\n",
    "from sklearn.preprocessing import LabelEncoder\n",
    "from sklearn.svm import SVC\n",
    "from sklearn.metrics import confusion_matrix, classification_report, accuracy_score, matthews_corrcoef\n",
    "from sklearn.model_selection import LeaveOneOut\n",
    "import numpy as np\n",
    "\n",
    "# Load the dataset\n",
    "data = pd.read_excel('../data/Final_2Sm_modified_with_sequences.xlsx')\n",
    "\n",
    "# Initialize the LabelEncoder\n",
    "label_encoder = LabelEncoder()\n",
    "\n",
    "# Fit the encoder to the folding_type column and transform it to numeric labels\n",
    "data['folding_type'] = label_encoder.fit_transform(data['folding_type'])\n",
    "\n",
    "# Now, when you extract labels for model training:\n",
    "labels = data['folding_type'].values\n",
    "\n",
    "# Initialize the FeatureExtraction class\n",
    "feature_extraction = QSOFeatureExtraction()\n",
    "\n",
    "# Feature extraction using AAC with length\n",
    "features = np.array([feature_extraction.calculate_qso_features(seq) for seq in data['sequence']])"
   ],
   "metadata": {
    "collapsed": false,
    "ExecuteTime": {
     "end_time": "2024-04-16T14:29:13.110554Z",
     "start_time": "2024-04-16T14:29:12.837491Z"
    }
   },
   "id": "7de061d3d78408a9",
   "execution_count": 8
  },
  {
   "cell_type": "code",
   "outputs": [],
   "source": [],
   "metadata": {
    "collapsed": false
   },
   "id": "4749acc8967215c7",
   "execution_count": null
  },
  {
   "cell_type": "markdown",
   "source": [
    "# Support Vector Machine (SVM) Classifier"
   ],
   "metadata": {
    "collapsed": false
   },
   "id": "c212c736b06ad11a"
  },
  {
   "cell_type": "code",
   "outputs": [],
   "source": [
    "# SVM with Leave-One-Out Cross-Validation (LOOCV)\n",
    "loo = LeaveOneOut()\n",
    "y_true, y_pred = [], []\n",
    "for train_index, test_index in loo.split(features):\n",
    "    X_train, X_test = features[train_index], features[test_index]\n",
    "    y_train, y_test = labels[train_index], labels[test_index]\n",
    "    clf = SVC(kernel='linear')\n",
    "    clf.fit(X_train, y_train)\n",
    "    y_pred.append(clf.predict(X_test)[0])\n",
    "    y_true.append(y_test[0])"
   ],
   "metadata": {
    "collapsed": false,
    "ExecuteTime": {
     "end_time": "2024-04-16T14:29:23.478386Z",
     "start_time": "2024-04-16T14:29:23.356306Z"
    }
   },
   "id": "8f1efb49dc2aebbc",
   "execution_count": 9
  },
  {
   "cell_type": "code",
   "outputs": [
    {
     "name": "stdout",
     "output_type": "stream",
     "text": [
      "Confusion Matrix: $QSO\n",
      "[[84  5]\n",
      " [46  6]]\n",
      "\n",
      "Accuracy (ACC): 0.64\n",
      "Matthews Correlation Coefficient (MCC): 0.11\n",
      "\n",
      "Classification Report:\n",
      "              precision    recall  f1-score   support\n",
      "\n",
      "           0       0.65      0.94      0.77        89\n",
      "           1       0.55      0.12      0.19        52\n",
      "\n",
      "    accuracy                           0.64       141\n",
      "   macro avg       0.60      0.53      0.48       141\n",
      "weighted avg       0.61      0.64      0.55       141\n"
     ]
    }
   ],
   "source": [
    "# Calculate and display the confusion matrix\n",
    "from ClassificationMatrix import ClassificationMatrix\n",
    "\n",
    "cm = ClassificationMatrix(y_true, y_pred, 'QSO')\n",
    "cm.evaluate()"
   ],
   "metadata": {
    "collapsed": false,
    "ExecuteTime": {
     "end_time": "2024-04-16T14:29:25.055368Z",
     "start_time": "2024-04-16T14:29:25.035368Z"
    }
   },
   "id": "fdf016d3cb0c08b1",
   "execution_count": 10
  },
  {
   "cell_type": "code",
   "outputs": [],
   "source": [],
   "metadata": {
    "collapsed": false
   },
   "id": "297d8b5e9e117b3",
   "execution_count": null
  },
  {
   "cell_type": "markdown",
   "source": [
    "# Random Forest Classifier with Leave-One-Out Cross-Validation (LOOCV) using Hyperparameter Optimization"
   ],
   "metadata": {
    "collapsed": false
   },
   "id": "9eb1e90c7127ac65"
  },
  {
   "cell_type": "code",
   "outputs": [
    {
     "name": "stdout",
     "output_type": "stream",
     "text": [
      "Best parameters:  {'max_depth': None, 'min_samples_leaf': 1, 'min_samples_split': 2, 'n_estimators': 300}\n",
      "Best score:  0.7872340425531915\n"
     ]
    }
   ],
   "source": [
    "from sklearn.model_selection import GridSearchCV\n",
    "from sklearn.ensemble import RandomForestClassifier\n",
    "\n",
    "# Define the parameter grid\n",
    "rf_param_grid = {\n",
    "    'n_estimators': [100, 200, 300],\n",
    "    'max_depth': [None, 10, 20],\n",
    "    'min_samples_split': [2, 5, 10],\n",
    "    'min_samples_leaf': [1, 2, 4]\n",
    "}\n",
    "\n",
    "# Initialize the Random Forest classifier\n",
    "rf = RandomForestClassifier(random_state=42)\n",
    "\n",
    "# Grid search with cross validation setup\n",
    "grid_search = GridSearchCV(estimator=rf, param_grid=rf_param_grid, cv=3, scoring='accuracy')\n",
    "\n",
    "# Fit the grid search to find the best parameters\n",
    "grid_search.fit(features, labels)\n",
    "\n",
    "# Get the best parameters and best score\n",
    "best_params = grid_search.best_params_\n",
    "best_score = grid_search.best_score_\n",
    "\n",
    "print(\"Best parameters: \", best_params)\n",
    "print(\"Best score: \", best_score)\n",
    "\n",
    "# Using the best parameters with LOOCV\n",
    "best_rf = RandomForestClassifier(**best_params, random_state=42)\n",
    "loo = LeaveOneOut()\n",
    "y_true, y_pred = [], []\n",
    "\n",
    "for train_index, test_index in loo.split(features):\n",
    "    X_train, X_test = features[train_index], features[test_index]\n",
    "    y_train, y_test = labels[train_index], labels[test_index]\n",
    "    best_rf.fit(X_train, y_train)\n",
    "    y_pred.append(best_rf.predict(X_test)[0])\n",
    "    y_true.append(y_test[0])"
   ],
   "metadata": {
    "collapsed": false,
    "ExecuteTime": {
     "end_time": "2024-04-16T14:34:11.113351Z",
     "start_time": "2024-04-16T14:32:23.554104Z"
    }
   },
   "id": "4d50b5aafb82d2f3",
   "execution_count": 11
  },
  {
   "cell_type": "code",
   "outputs": [
    {
     "name": "stdout",
     "output_type": "stream",
     "text": [
      "Confusion Matrix: $QSO\n",
      "[[82  7]\n",
      " [23 29]]\n",
      "\n",
      "Accuracy (ACC): 0.79\n",
      "Matthews Correlation Coefficient (MCC): 0.53\n",
      "\n",
      "Classification Report:\n",
      "              precision    recall  f1-score   support\n",
      "\n",
      "           0       0.78      0.92      0.85        89\n",
      "           1       0.81      0.56      0.66        52\n",
      "\n",
      "    accuracy                           0.79       141\n",
      "   macro avg       0.79      0.74      0.75       141\n",
      "weighted avg       0.79      0.79      0.78       141\n"
     ]
    }
   ],
   "source": [
    "# Evaluate the model\n",
    "# Calculate and display the confusion matrix\n",
    "from ClassificationMatrix import ClassificationMatrix\n",
    "\n",
    "cm = ClassificationMatrix(y_true, y_pred, 'QSO')\n",
    "cm.evaluate()"
   ],
   "metadata": {
    "collapsed": false,
    "ExecuteTime": {
     "end_time": "2024-04-16T14:34:17.528768Z",
     "start_time": "2024-04-16T14:34:17.507768Z"
    }
   },
   "id": "dfc190fae77a071a",
   "execution_count": 12
  }
 ],
 "metadata": {
  "kernelspec": {
   "display_name": "Python 3",
   "language": "python",
   "name": "python3"
  },
  "language_info": {
   "codemirror_mode": {
    "name": "ipython",
    "version": 2
   },
   "file_extension": ".py",
   "mimetype": "text/x-python",
   "name": "python",
   "nbconvert_exporter": "python",
   "pygments_lexer": "ipython2",
   "version": "2.7.6"
  }
 },
 "nbformat": 4,
 "nbformat_minor": 5
}
