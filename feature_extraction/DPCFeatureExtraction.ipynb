{
 "cells": [
  {
   "cell_type": "code",
   "execution_count": 7,
   "id": "initial_id",
   "metadata": {
    "collapsed": true,
    "ExecuteTime": {
     "end_time": "2024-04-16T13:54:50.162858Z",
     "start_time": "2024-04-16T13:54:50.130359Z"
    }
   },
   "outputs": [],
   "source": [
    "from collections import Counter\n",
    "from itertools import product\n",
    "\n",
    "class DPCFeatureExtraction:\n",
    "    def __init__(self):\n",
    "        self.amino_acids = 'ACDEFGHIKLMNPQRSTVWY'\n",
    "\n",
    "    def calculate_dpc_features(self, sequence):\n",
    "        \"\"\"\n",
    "        Calculate the DPC features for a given protein sequence.\n",
    "\n",
    "        :param sequence: The protein sequence as a string.\n",
    "        :return: A list of DPC feature values.\n",
    "        \"\"\"\n",
    "        # Generate all possible dipeptide combinations\n",
    "        dipeptides = [''.join(dipeptide) for dipeptide in product(self.amino_acids, repeat=2)]\n",
    "\n",
    "        # Initialize a dictionary to store the counts of each dipeptide\n",
    "        dipeptide_counts = {dipeptide: 0 for dipeptide in dipeptides}\n",
    "\n",
    "        # Count the occurrences of each dipeptide in the sequence\n",
    "        for i in range(len(sequence) - 1):\n",
    "            dipeptide = sequence[i:i+2]\n",
    "            if dipeptide in dipeptide_counts:\n",
    "                dipeptide_counts[dipeptide] += 1\n",
    "\n",
    "        # Calculate the sequence length\n",
    "        sequence_length = len(sequence)\n",
    "\n",
    "        # Calculate the DPC feature values using the formula\n",
    "        dpc_features = [dipeptide_counts[dipeptide] / (sequence_length - 1) for dipeptide in dipeptides]\n",
    "\n",
    "        return dpc_features"
   ]
  },
  {
   "cell_type": "code",
   "outputs": [],
   "source": [
    "import pandas as pd\n",
    "from sklearn.preprocessing import LabelEncoder\n",
    "from sklearn.svm import SVC\n",
    "from sklearn.metrics import confusion_matrix, classification_report, accuracy_score, matthews_corrcoef\n",
    "from sklearn.model_selection import LeaveOneOut\n",
    "import numpy as np\n",
    "\n",
    "# Load the dataset\n",
    "data = pd.read_excel('../data/Final_2Sm_modified_with_sequences.xlsx')\n",
    "\n",
    "# Initialize the LabelEncoder\n",
    "label_encoder = LabelEncoder()\n",
    "\n",
    "# Fit the encoder to the folding_type column and transform it to numeric labels\n",
    "data['folding_type'] = label_encoder.fit_transform(data['folding_type'])\n",
    "\n",
    "# Now, when you extract labels for model training:\n",
    "labels = data['folding_type'].values\n",
    "\n",
    "# Initialize the FeatureExtraction class\n",
    "feature_extraction = DPCFeatureExtraction()\n",
    "\n",
    "# Feature extraction using AAC with length\n",
    "features = np.array([feature_extraction.calculate_dpc_features(seq) for seq in data['sequence']])\n",
    "\n",
    "# SVM with Leave-One-Out Cross-Validation (LOOCV)\n",
    "loo = LeaveOneOut()\n",
    "y_true, y_pred = [], []\n",
    "for train_index, test_index in loo.split(features):\n",
    "    X_train, X_test = features[train_index], features[test_index]\n",
    "    y_train, y_test = labels[train_index], labels[test_index]\n",
    "    clf = SVC(kernel='linear')\n",
    "    clf.fit(X_train, y_train)\n",
    "    y_pred.append(clf.predict(X_test)[0])\n",
    "    y_true.append(y_test[0])"
   ],
   "metadata": {
    "collapsed": false,
    "ExecuteTime": {
     "end_time": "2024-04-16T13:54:52.866910Z",
     "start_time": "2024-04-16T13:54:52.574564Z"
    }
   },
   "id": "6d73904ef15685ca",
   "execution_count": 8
  },
  {
   "cell_type": "code",
   "outputs": [
    {
     "name": "stdout",
     "output_type": "stream",
     "text": [
      "Confusion Matrix: $DPC\n",
      "[[89  0]\n",
      " [52  0]]\n",
      "\n",
      "Accuracy (ACC): 0.63\n",
      "Matthews Correlation Coefficient (MCC): 0.00\n",
      "\n",
      "Classification Report:\n",
      "              precision    recall  f1-score   support\n",
      "\n",
      "           0       0.63      1.00      0.77        89\n",
      "           1       0.00      0.00      0.00        52\n",
      "\n",
      "    accuracy                           0.63       141\n",
      "   macro avg       0.32      0.50      0.39       141\n",
      "weighted avg       0.40      0.63      0.49       141\n"
     ]
    }
   ],
   "source": [
    "# Calculate and display the confusion matrix\n",
    "from ClassificationMatrix import ClassificationMatrix\n",
    "\n",
    "cm = ClassificationMatrix(y_true, y_pred, 'DPC')\n",
    "cm.evaluate()"
   ],
   "metadata": {
    "collapsed": false,
    "ExecuteTime": {
     "end_time": "2024-04-16T09:55:44.489602Z",
     "start_time": "2024-04-16T09:55:44.464473Z"
    }
   },
   "id": "c0d7f6cc8b2c8aea",
   "execution_count": 6
  },
  {
   "cell_type": "code",
   "outputs": [],
   "source": [],
   "metadata": {
    "collapsed": false
   },
   "id": "473d0a1f08c7f856"
  },
  {
   "cell_type": "markdown",
   "source": [
    "# Random Forest implementation with hyperparameter tuning"
   ],
   "metadata": {
    "collapsed": false
   },
   "id": "fd4f6d5e9ee7a58b"
  },
  {
   "cell_type": "code",
   "outputs": [
    {
     "name": "stdout",
     "output_type": "stream",
     "text": [
      "Best parameters:  {'max_depth': 10, 'min_samples_leaf': 1, 'min_samples_split': 10, 'n_estimators': 300}\n",
      "Best score:  0.7661904761904761\n"
     ]
    }
   ],
   "source": [
    "from sklearn.model_selection import GridSearchCV\n",
    "from sklearn.ensemble import RandomForestClassifier\n",
    "\n",
    "# Define the parameter grid\n",
    "rf_param_grid = {\n",
    "    'n_estimators': [100, 200, 300],\n",
    "    'max_depth': [None, 10, 20],\n",
    "    'min_samples_split': [2, 5, 10],\n",
    "    'min_samples_leaf': [1, 2, 4]\n",
    "}\n",
    "\n",
    "# Initialize the Random Forest classifier\n",
    "rf = RandomForestClassifier(random_state=42)\n",
    "\n",
    "# Grid search with cross validation setup\n",
    "grid_search = GridSearchCV(estimator=rf, param_grid=rf_param_grid, cv=3, scoring='accuracy')\n",
    "\n",
    "# Fit the grid search to find the best parameters\n",
    "grid_search.fit(features, labels)\n",
    "\n",
    "# Get the best parameters and best score\n",
    "best_params = grid_search.best_params_\n",
    "best_score = grid_search.best_score_\n",
    "\n",
    "print(\"Best parameters: \", best_params)\n",
    "print(\"Best score: \", best_score)\n",
    "\n",
    "# Using the best parameters with LOOCV\n",
    "best_rf = RandomForestClassifier(**best_params, random_state=42)\n",
    "loo = LeaveOneOut()\n",
    "y_true, y_pred = [], []\n",
    "\n",
    "for train_index, test_index in loo.split(features):\n",
    "    X_train, X_test = features[train_index], features[test_index]\n",
    "    y_train, y_test = labels[train_index], labels[test_index]\n",
    "    best_rf.fit(X_train, y_train)\n",
    "    y_pred.append(best_rf.predict(X_test)[0])\n",
    "    y_true.append(y_test[0])"
   ],
   "metadata": {
    "collapsed": false,
    "ExecuteTime": {
     "end_time": "2024-04-16T14:03:07.181212Z",
     "start_time": "2024-04-16T13:59:18.194062Z"
    }
   },
   "id": "73c244239ad6bb06",
   "execution_count": 11
  },
  {
   "cell_type": "code",
   "outputs": [
    {
     "name": "stdout",
     "output_type": "stream",
     "text": [
      "Confusion Matrix: $KAAC\n",
      "[[84  5]\n",
      " [34 18]]\n",
      "\n",
      "Accuracy (ACC): 0.72\n",
      "Matthews Correlation Coefficient (MCC): 0.38\n",
      "\n",
      "Classification Report:\n",
      "              precision    recall  f1-score   support\n",
      "\n",
      "           0       0.71      0.94      0.81        89\n",
      "           1       0.78      0.35      0.48        52\n",
      "\n",
      "    accuracy                           0.72       141\n",
      "   macro avg       0.75      0.64      0.65       141\n",
      "weighted avg       0.74      0.72      0.69       141\n"
     ]
    }
   ],
   "source": [
    "# Evaluate the model\n",
    "# Calculate and display the confusion matrix\n",
    "from ClassificationMatrix import ClassificationMatrix\n",
    "\n",
    "cm = ClassificationMatrix(y_true, y_pred, 'KAAC')\n",
    "cm.evaluate()"
   ],
   "metadata": {
    "collapsed": false,
    "ExecuteTime": {
     "end_time": "2024-04-16T14:03:23.588546Z",
     "start_time": "2024-04-16T14:03:23.577546Z"
    }
   },
   "id": "31f434bf6e7e2be4",
   "execution_count": 12
  }
 ],
 "metadata": {
  "kernelspec": {
   "display_name": "Python 3",
   "language": "python",
   "name": "python3"
  },
  "language_info": {
   "codemirror_mode": {
    "name": "ipython",
    "version": 2
   },
   "file_extension": ".py",
   "mimetype": "text/x-python",
   "name": "python",
   "nbconvert_exporter": "python",
   "pygments_lexer": "ipython2",
   "version": "2.7.6"
  }
 },
 "nbformat": 4,
 "nbformat_minor": 5
}
