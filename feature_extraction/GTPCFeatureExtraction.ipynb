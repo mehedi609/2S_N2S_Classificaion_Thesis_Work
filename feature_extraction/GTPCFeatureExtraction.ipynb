{
 "cells": [
  {
   "cell_type": "code",
   "id": "initial_id",
   "metadata": {
    "collapsed": true,
    "ExecuteTime": {
     "end_time": "2024-04-17T11:47:00.305445Z",
     "start_time": "2024-04-17T11:47:00.299445Z"
    }
   },
   "source": [
    "from collections import Counter\n",
    "from itertools import product\n",
    "\n",
    "class GTPCFeatureExtraction:\n",
    "    def __init__(self):\n",
    "        self.amino_acid_groups = {\n",
    "            'g1': 'FYW',  # Aromatic\n",
    "            'g2': 'RKH',  # Positively charged\n",
    "            'g3': 'GAVLMI',  # Aliphatic\n",
    "            'g4': 'STCPNQ',  # Uncharged\n",
    "            'g5': 'DE'  # Negatively charged\n",
    "        }\n",
    "        self.group_names = list(self.amino_acid_groups.keys())\n",
    "\n",
    "    def calculate_gtpc_features(self, sequence):\n",
    "        \"\"\"\n",
    "        Calculate the GTPC features for a given protein sequence.\n",
    "\n",
    "        :param sequence: The protein sequence as a string.\n",
    "        :return: A list of GTPC feature values.\n",
    "        \"\"\"\n",
    "        # Create a mapping of amino acids to their corresponding groups\n",
    "        amino_acid_to_group = {}\n",
    "        for group, amino_acids in self.amino_acid_groups.items():\n",
    "            for amino_acid in amino_acids:\n",
    "                amino_acid_to_group[amino_acid] = group\n",
    "\n",
    "        # Generate all possible group tripeptide combinations\n",
    "        group_tripeptides = [''.join(group) for group in product(self.group_names, repeat=3)]\n",
    "\n",
    "        # Initialize a dictionary to store the counts of each group tripeptide\n",
    "        group_tripeptide_counts = {group_tripeptide: 0 for group_tripeptide in group_tripeptides}\n",
    "\n",
    "        # Count the occurrences of each group tripeptide in the sequence\n",
    "        for i in range(len(sequence) - 2):\n",
    "            tripeptide = sequence[i:i+3]\n",
    "            group_tripeptide = ''.join([amino_acid_to_group.get(amino_acid, '') for amino_acid in tripeptide])\n",
    "            if group_tripeptide in group_tripeptide_counts:\n",
    "                group_tripeptide_counts[group_tripeptide] += 1\n",
    "\n",
    "        # Calculate the sequence length\n",
    "        sequence_length = len(sequence)\n",
    "\n",
    "        # Calculate the GTPC feature values using the formula\n",
    "        gtpc_features = [group_tripeptide_counts[group_tripeptide] / (sequence_length - 2) for group_tripeptide in group_tripeptides]\n",
    "\n",
    "        return gtpc_features"
   ],
   "outputs": [],
   "execution_count": 2
  },
  {
   "cell_type": "code",
   "source": [
    "import pandas as pd\n",
    "from sklearn.preprocessing import LabelEncoder\n",
    "from sklearn.svm import SVC\n",
    "from sklearn.metrics import confusion_matrix, classification_report, accuracy_score, matthews_corrcoef\n",
    "from sklearn.model_selection import LeaveOneOut\n",
    "import numpy as np\n",
    "\n",
    "# Load the dataset\n",
    "data = pd.read_excel('../data/Final_2Sm_modified_with_sequences.xlsx')\n",
    "\n",
    "# Initialize the LabelEncoder\n",
    "label_encoder = LabelEncoder()\n",
    "\n",
    "# Fit the encoder to the folding_type column and transform it to numeric labels\n",
    "data['folding_type'] = label_encoder.fit_transform(data['folding_type'])\n",
    "\n",
    "# Now, when you extract labels for model training:\n",
    "labels = data['folding_type'].values\n",
    "\n",
    "# Initialize the FeatureExtraction class\n",
    "feature_extraction = GTPCFeatureExtraction()\n",
    "\n",
    "# Feature extraction using AAC with length\n",
    "features = np.array([feature_extraction.calculate_gtpc_features(seq) for seq in data['sequence']])"
   ],
   "metadata": {
    "collapsed": false,
    "ExecuteTime": {
     "end_time": "2024-04-17T11:47:02.717693Z",
     "start_time": "2024-04-17T11:47:02.672270Z"
    }
   },
   "id": "9b70f5ff3f44a6c2",
   "outputs": [],
   "execution_count": 3
  },
  {
   "metadata": {
    "ExecuteTime": {
     "end_time": "2024-04-17T11:47:17.522669Z",
     "start_time": "2024-04-17T11:47:17.508670Z"
    }
   },
   "cell_type": "code",
   "source": "features.shape",
   "id": "4b8636ad48c963df",
   "outputs": [
    {
     "data": {
      "text/plain": [
       "(141, 125)"
      ]
     },
     "execution_count": 4,
     "metadata": {},
     "output_type": "execute_result"
    }
   ],
   "execution_count": 4
  },
  {
   "cell_type": "markdown",
   "source": [
    "# Support Vector Machine (SVM) Classifier"
   ],
   "metadata": {
    "collapsed": false
   },
   "id": "1fbb21711d228edd"
  },
  {
   "cell_type": "code",
   "outputs": [],
   "source": [
    "# SVM with Leave-One-Out Cross-Validation (LOOCV)\n",
    "loo = LeaveOneOut()\n",
    "y_true, y_pred = [], []\n",
    "for train_index, test_index in loo.split(features):\n",
    "    X_train, X_test = features[train_index], features[test_index]\n",
    "    y_train, y_test = labels[train_index], labels[test_index]\n",
    "    clf = SVC(kernel='linear')\n",
    "    clf.fit(X_train, y_train)\n",
    "    y_pred.append(clf.predict(X_test)[0])\n",
    "    y_true.append(y_test[0])"
   ],
   "metadata": {
    "collapsed": false,
    "ExecuteTime": {
     "end_time": "2024-04-16T11:50:19.867195Z",
     "start_time": "2024-04-16T11:50:19.713680Z"
    }
   },
   "id": "5e70a25b3b24b760",
   "execution_count": 3
  },
  {
   "cell_type": "code",
   "outputs": [
    {
     "name": "stdout",
     "output_type": "stream",
     "text": [
      "Confusion Matrix: $KAAC\n",
      "[[89  0]\n",
      " [52  0]]\n",
      "\n",
      "Accuracy (ACC): 0.63\n",
      "Matthews Correlation Coefficient (MCC): 0.00\n",
      "\n",
      "Classification Report:\n",
      "              precision    recall  f1-score   support\n",
      "\n",
      "           0       0.63      1.00      0.77        89\n",
      "           1       0.00      0.00      0.00        52\n",
      "\n",
      "    accuracy                           0.63       141\n",
      "   macro avg       0.32      0.50      0.39       141\n",
      "weighted avg       0.40      0.63      0.49       141\n"
     ]
    }
   ],
   "source": [
    "# Calculate and display the confusion matrix\n",
    "from ClassificationMatrix import ClassificationMatrix\n",
    "\n",
    "cm = ClassificationMatrix(y_true, y_pred, 'KAAC')\n",
    "cm.evaluate()"
   ],
   "metadata": {
    "collapsed": false,
    "ExecuteTime": {
     "end_time": "2024-04-16T11:50:28.578040Z",
     "start_time": "2024-04-16T11:50:28.564028Z"
    }
   },
   "id": "7d7989189925df60",
   "execution_count": 4
  },
  {
   "cell_type": "markdown",
   "source": [
    "# RANDOM FOREST (RF) Implementation with Hyperparameter Tuning"
   ],
   "metadata": {
    "collapsed": false
   },
   "id": "975ae968280883b7"
  },
  {
   "cell_type": "code",
   "outputs": [
    {
     "name": "stdout",
     "output_type": "stream",
     "text": [
      "Best parameters:  {'max_depth': None, 'min_samples_leaf': 1, 'min_samples_split': 5, 'n_estimators': 200}\n",
      "Best score:  0.6666666666666666\n"
     ]
    }
   ],
   "source": [
    "from sklearn.model_selection import GridSearchCV\n",
    "from sklearn.ensemble import RandomForestClassifier\n",
    "\n",
    "# Define the parameter grid\n",
    "rf_param_grid = {\n",
    "    'n_estimators': [100, 200, 300],\n",
    "    'max_depth': [None, 10, 20],\n",
    "    'min_samples_split': [2, 5, 10],\n",
    "    'min_samples_leaf': [1, 2, 4]\n",
    "}\n",
    "\n",
    "# Initialize the Random Forest classifier\n",
    "rf = RandomForestClassifier(random_state=42)\n",
    "\n",
    "# Grid search with cross validation setup\n",
    "grid_search = GridSearchCV(estimator=rf, param_grid=rf_param_grid, cv=3, scoring='accuracy')\n",
    "\n",
    "# Fit the grid search to find the best parameters\n",
    "grid_search.fit(features, labels)\n",
    "\n",
    "# Get the best parameters and best score\n",
    "best_params = grid_search.best_params_\n",
    "best_score = grid_search.best_score_\n",
    "\n",
    "print(\"Best parameters: \", best_params)\n",
    "print(\"Best score: \", best_score)\n",
    "\n",
    "# Using the best parameters with LOOCV\n",
    "best_rf = RandomForestClassifier(**best_params, random_state=42)\n",
    "loo = LeaveOneOut()\n",
    "y_true, y_pred = [], []\n",
    "\n",
    "for train_index, test_index in loo.split(features):\n",
    "    X_train, X_test = features[train_index], features[test_index]\n",
    "    y_train, y_test = labels[train_index], labels[test_index]\n",
    "    best_rf.fit(X_train, y_train)\n",
    "    y_pred.append(best_rf.predict(X_test)[0])\n",
    "    y_true.append(y_test[0])"
   ],
   "metadata": {
    "collapsed": false,
    "ExecuteTime": {
     "end_time": "2024-04-16T14:17:58.256144Z",
     "start_time": "2024-04-16T14:16:37.227601Z"
    }
   },
   "id": "4e922b7821691ecc",
   "execution_count": 7
  },
  {
   "cell_type": "code",
   "outputs": [
    {
     "name": "stdout",
     "output_type": "stream",
     "text": [
      "Confusion Matrix: $GTPC\n",
      "[[81  8]\n",
      " [34 18]]\n",
      "\n",
      "Accuracy (ACC): 0.70\n",
      "Matthews Correlation Coefficient (MCC): 0.32\n",
      "\n",
      "Classification Report:\n",
      "              precision    recall  f1-score   support\n",
      "\n",
      "           0       0.70      0.91      0.79        89\n",
      "           1       0.69      0.35      0.46        52\n",
      "\n",
      "    accuracy                           0.70       141\n",
      "   macro avg       0.70      0.63      0.63       141\n",
      "weighted avg       0.70      0.70      0.67       141\n"
     ]
    }
   ],
   "source": [
    "# Calculate and display the confusion matrix\n",
    "from ClassificationMatrix import ClassificationMatrix\n",
    "\n",
    "cm = ClassificationMatrix(y_true, y_pred, 'GTPC')\n",
    "cm.evaluate()"
   ],
   "metadata": {
    "collapsed": false,
    "ExecuteTime": {
     "end_time": "2024-04-16T14:18:17.990127Z",
     "start_time": "2024-04-16T14:18:17.971663Z"
    }
   },
   "id": "86cc76a8e75c12c4",
   "execution_count": 9
  }
 ],
 "metadata": {
  "kernelspec": {
   "display_name": "Python 3",
   "language": "python",
   "name": "python3"
  },
  "language_info": {
   "codemirror_mode": {
    "name": "ipython",
    "version": 2
   },
   "file_extension": ".py",
   "mimetype": "text/x-python",
   "name": "python",
   "nbconvert_exporter": "python",
   "pygments_lexer": "ipython2",
   "version": "2.7.6"
  }
 },
 "nbformat": 4,
 "nbformat_minor": 5
}
