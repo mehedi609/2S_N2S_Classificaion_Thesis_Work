{
 "cells": [
  {
   "cell_type": "code",
   "execution_count": 1,
   "id": "initial_id",
   "metadata": {
    "collapsed": true,
    "ExecuteTime": {
     "end_time": "2024-03-30T08:28:41.377512Z",
     "start_time": "2024-03-30T08:28:40.420245Z"
    }
   },
   "outputs": [
    {
     "name": "stdout",
     "output_type": "stream",
     "text": [
      "Libraries imported successfully\n"
     ]
    }
   ],
   "source": [
    "import pandas as pd\n",
    "from sklearn import svm\n",
    "from sklearn.model_selection import train_test_split\n",
    "from sklearn.metrics import classification_report, accuracy_score\n",
    "\n",
    "print('Libraries imported successfully')"
   ]
  },
  {
   "cell_type": "code",
   "outputs": [],
   "source": [
    "# import FeatureExtraction class\n",
    "from feature_extraction.feature_extraction import FeatureExtraction\n",
    "feature_extractor = FeatureExtraction()\n"
   ],
   "metadata": {
    "collapsed": false,
    "ExecuteTime": {
     "end_time": "2024-03-30T08:28:41.392930Z",
     "start_time": "2024-03-30T08:28:41.380011Z"
    }
   },
   "id": "ea772487a005f3b2",
   "execution_count": 2
  },
  {
   "cell_type": "code",
   "outputs": [],
   "source": [
    "# Load the dataset\n",
    "file_path = './data/Final_2Sm_modified_with_sequences.xlsx'  # Update this path\n",
    "data = pd.read_excel(file_path)"
   ],
   "metadata": {
    "collapsed": false,
    "ExecuteTime": {
     "end_time": "2024-03-30T08:28:41.563509Z",
     "start_time": "2024-03-30T08:28:41.394930Z"
    }
   },
   "id": "e6a2e2580bd1977",
   "execution_count": 3
  },
  {
   "cell_type": "code",
   "outputs": [
    {
     "name": "stdout",
     "output_type": "stream",
     "text": [
      "       0         1         2         3         4         5         6     \\\n",
      "0  0.037736  0.000000  0.018868  0.113208  0.037736  0.075472  0.000000   \n",
      "1  0.018868  0.000000  0.037736  0.056604  0.018868  0.056604  0.018868   \n",
      "2  0.076190  0.000000  0.085714  0.114286  0.028571  0.047619  0.038095   \n",
      "3  0.121495  0.009346  0.074766  0.121495  0.028037  0.046729  0.037383   \n",
      "4  0.090000  0.030000  0.080000  0.080000  0.010000  0.040000  0.010000   \n",
      "\n",
      "       7         8         9     ...      3704      3705      3706      3707  \\\n",
      "0  0.037736  0.094340  0.056604  ... -0.179629 -0.254103 -0.359549  4.291649   \n",
      "1  0.018868  0.150943  0.113208  ... -0.179629 -0.254103 -0.359549 -0.254103   \n",
      "2  0.038095  0.104762  0.123810  ... -0.179629 -0.254103 -0.359549 -0.254103   \n",
      "3  0.037383  0.121495  0.074766  ... -0.179629 -0.254103 -0.359549  1.975888   \n",
      "4  0.040000  0.050000  0.100000  ... -0.179629 -0.254103  1.329696 -0.254103   \n",
      "\n",
      "       3708      3709      3710      3711      3712      3713  \n",
      "0 -0.440593 -0.440593 -0.359549 -0.359549 -0.179629 -0.254103  \n",
      "1 -0.440593 -0.440593 -0.359549 -0.359549 -0.179629 -0.254103  \n",
      "2 -0.440593 -0.440593 -0.359549 -0.359549 -0.179629 -0.254103  \n",
      "3 -0.440593 -0.440593 -0.359549 -0.359549 -0.179629 -0.254103  \n",
      "4 -0.440593 -0.440593 -0.359549 -0.359549 -0.179629 -0.254103  \n",
      "\n",
      "[5 rows x 3714 columns]\n"
     ]
    }
   ],
   "source": [
    "# Apply feature extraction to each sequence and prepare the dataset\n",
    "feature_vectors = []\n",
    "for sequence in data['sequence']:\n",
    "    features_aac = feature_extractor.calculate_aac_with_length(sequence)\n",
    "    features_dpc = feature_extractor.calculate_dpc(sequence)\n",
    "    features_gdpc = feature_extractor.calculate_gdpc(sequence)\n",
    "    features_gtpc = feature_extractor.calculate_gtpc(sequence)\n",
    "    features_cksaap = feature_extractor.calculate_cksaap(sequence)\n",
    "    features_ct = feature_extractor.calculate_ct(sequence)\n",
    "    features_dde = feature_extractor.calculate_dde(sequence)\n",
    "    combined_features = features_aac + features_dpc + features_gdpc + features_gtpc + features_cksaap + features_ct + features_dde\n",
    "    feature_vectors.append(combined_features)\n",
    "    \n",
    "print(pd.DataFrame(feature_vectors).head())\n",
    "\n",
    "X = pd.DataFrame(feature_vectors)\n",
    "y = data['folding_type']\n",
    "\n",
    "# Splitting the dataset\n",
    "X_train, X_test, y_train, y_test = train_test_split(X, y, test_size=0.2, random_state=42)"
   ],
   "metadata": {
    "collapsed": false,
    "ExecuteTime": {
     "end_time": "2024-03-30T08:29:09.268561Z",
     "start_time": "2024-03-30T08:29:08.556310Z"
    }
   },
   "id": "7f965130d69308f6",
   "execution_count": 6
  },
  {
   "cell_type": "code",
   "outputs": [
    {
     "name": "stdout",
     "output_type": "stream",
     "text": [
      "Accuracy: 0.8275862068965517\n",
      "Classification Report:\n",
      "               precision    recall  f1-score   support\n",
      "\n",
      "          2S       0.86      0.80      0.83        15\n",
      "         N2S       0.80      0.86      0.83        14\n",
      "\n",
      "    accuracy                           0.83        29\n",
      "   macro avg       0.83      0.83      0.83        29\n",
      "weighted avg       0.83      0.83      0.83        29\n"
     ]
    }
   ],
   "source": [
    "# Train the SVM classifier\n",
    "clf = svm.SVC(kernel='linear')\n",
    "clf.fit(X_train, y_train)\n",
    "\n",
    "# Make predictions and evaluate the model\n",
    "y_pred = clf.predict(X_test)\n",
    "print(\"Accuracy:\", accuracy_score(y_test, y_pred))\n",
    "print(\"Classification Report:\\n\", classification_report(y_test, y_pred))"
   ],
   "metadata": {
    "collapsed": false,
    "ExecuteTime": {
     "end_time": "2024-03-30T08:29:10.923412Z",
     "start_time": "2024-03-30T08:29:10.864403Z"
    }
   },
   "id": "a6f2b53eb026d7dd",
   "execution_count": 7
  }
 ],
 "metadata": {
  "kernelspec": {
   "display_name": "Python 3",
   "language": "python",
   "name": "python3"
  },
  "language_info": {
   "codemirror_mode": {
    "name": "ipython",
    "version": 2
   },
   "file_extension": ".py",
   "mimetype": "text/x-python",
   "name": "python",
   "nbconvert_exporter": "python",
   "pygments_lexer": "ipython2",
   "version": "2.7.6"
  }
 },
 "nbformat": 4,
 "nbformat_minor": 5
}
